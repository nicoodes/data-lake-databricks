{
 "cells": [
  {
   "cell_type": "markdown",
   "metadata": {
    "application/vnd.databricks.v1+cell": {
     "cellMetadata": {},
     "inputWidgets": {},
     "nuid": "17d9a217-c89b-4378-9dd6-ca3cc8a790d8",
     "showTitle": false,
     "title": ""
    }
   },
   "source": [
    "# Initialize folder structure"
   ]
  },
  {
   "cell_type": "code",
   "execution_count": 0,
   "metadata": {
    "application/vnd.databricks.v1+cell": {
     "cellMetadata": {
      "byteLimit": 2048000,
      "rowLimit": 10000
     },
     "inputWidgets": {},
     "nuid": "d9bc6500-779f-4e75-9c7a-2b3acef259bd",
     "showTitle": false,
     "title": ""
    }
   },
   "outputs": [],
   "source": [
    "bucket_name='test_bucket'\n",
    "bucket_folders=['landing', 'archive', 'raw base', 'silver', 'gold']\n",
    "table_folders=['sales', 'customer', 'product', 'brand'] # except for gold and silver layers that will have delta tables"
   ]
  },
  {
   "cell_type": "code",
   "execution_count": 0,
   "metadata": {
    "application/vnd.databricks.v1+cell": {
     "cellMetadata": {
      "byteLimit": 2048000,
      "rowLimit": 10000
     },
     "inputWidgets": {},
     "nuid": "8e442c94-b389-430a-974b-ffd58e74c8f5",
     "showTitle": false,
     "title": ""
    }
   },
   "outputs": [
    {
     "output_type": "stream",
     "name": "stdout",
     "output_type": "stream",
     "text": [
      "Out[1]: True"
     ]
    }
   ],
   "source": [
    "# remove full directory if needed (can't be undone)\n",
    "#dbutils.fs.rm('/FileStore/mnt/'+ bucket_name, recurse=True)"
   ]
  },
  {
   "cell_type": "markdown",
   "metadata": {
    "application/vnd.databricks.v1+cell": {
     "cellMetadata": {},
     "inputWidgets": {},
     "nuid": "0a027495-6dab-4292-a1ce-6a71913f2828",
     "showTitle": false,
     "title": ""
    }
   },
   "source": [
    "### Create main bucket (to use as if in S3)"
   ]
  },
  {
   "cell_type": "code",
   "execution_count": 0,
   "metadata": {
    "application/vnd.databricks.v1+cell": {
     "cellMetadata": {
      "byteLimit": 2048000,
      "rowLimit": 10000
     },
     "inputWidgets": {},
     "nuid": "6ea30815-e4d2-4131-855b-646084413c6c",
     "showTitle": false,
     "title": ""
    }
   },
   "outputs": [
    {
     "output_type": "stream",
     "name": "stdout",
     "output_type": "stream",
     "text": [
      "Out[3]: True"
     ]
    }
   ],
   "source": [
    "dbutils.fs.mkdirs(f'/FileStore/mnt/{bucket_name}')"
   ]
  },
  {
   "cell_type": "markdown",
   "metadata": {
    "application/vnd.databricks.v1+cell": {
     "cellMetadata": {},
     "inputWidgets": {},
     "nuid": "a24fbde1-b198-4e0c-9613-d083fed66836",
     "showTitle": false,
     "title": ""
    }
   },
   "source": [
    "### Create folders for different layers inside project bucket"
   ]
  },
  {
   "cell_type": "code",
   "execution_count": 0,
   "metadata": {
    "application/vnd.databricks.v1+cell": {
     "cellMetadata": {
      "byteLimit": 2048000,
      "rowLimit": 10000
     },
     "inputWidgets": {},
     "nuid": "807617b2-f643-4f86-b1db-328b6bba76a6",
     "showTitle": false,
     "title": ""
    }
   },
   "outputs": [],
   "source": [
    "for b in bucket_folders:\n",
    "    dbutils.fs.mkdirs(f'/FileStore/mnt/{bucket_name}/{b}')"
   ]
  },
  {
   "cell_type": "markdown",
   "metadata": {
    "application/vnd.databricks.v1+cell": {
     "cellMetadata": {},
     "inputWidgets": {},
     "nuid": "7d42af03-0d13-4815-8252-f0fe03476dee",
     "showTitle": false,
     "title": ""
    }
   },
   "source": [
    "### Create folders for file landing, archiving and raw base"
   ]
  },
  {
   "cell_type": "code",
   "execution_count": 0,
   "metadata": {
    "application/vnd.databricks.v1+cell": {
     "cellMetadata": {
      "byteLimit": 2048000,
      "rowLimit": 10000
     },
     "inputWidgets": {},
     "nuid": "e1417550-e707-4116-989b-387680d84679",
     "showTitle": false,
     "title": ""
    }
   },
   "outputs": [],
   "source": [
    "for b in bucket_folders:\n",
    "    if b in ['silver', 'gold']:\n",
    "        continue\n",
    "    for t in table_folders:\n",
    "        dbutils.fs.mkdirs(f'/FileStore/mnt/{bucket_name}/{b}/{t}')"
   ]
  },
  {
   "cell_type": "code",
   "execution_count": 0,
   "metadata": {
    "application/vnd.databricks.v1+cell": {
     "cellMetadata": {},
     "inputWidgets": {},
     "nuid": "e168ae6b-3f89-451e-87cc-62077fd9e6e3",
     "showTitle": false,
     "title": ""
    }
   },
   "outputs": [],
   "source": []
  }
 ],
 "metadata": {
  "application/vnd.databricks.v1+notebook": {
   "dashboards": [],
   "language": "python",
   "notebookMetadata": {
    "pythonIndentUnit": 4
   },
   "notebookName": "000 create project structure",
   "widgets": {}
  }
 },
 "nbformat": 4,
 "nbformat_minor": 0
}
