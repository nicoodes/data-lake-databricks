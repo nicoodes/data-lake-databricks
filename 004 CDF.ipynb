{
 "cells": [
  {
   "cell_type": "markdown",
   "metadata": {
    "application/vnd.databricks.v1+cell": {
     "cellMetadata": {},
     "inputWidgets": {},
     "nuid": "98589d81-1a51-4da1-88cc-7cb9d19608bd",
     "showTitle": false,
     "title": ""
    }
   },
   "source": [
    "# Merge with CDF products table"
   ]
  },
  {
   "cell_type": "code",
   "execution_count": 0,
   "metadata": {
    "application/vnd.databricks.v1+cell": {
     "cellMetadata": {
      "byteLimit": 2048000,
      "rowLimit": 10000
     },
     "inputWidgets": {},
     "nuid": "c84c2bf4-3e27-4a04-90c0-c6ffff5af768",
     "showTitle": false,
     "title": ""
    }
   },
   "outputs": [
    {
     "output_type": "stream",
     "name": "stdout",
     "output_type": "stream",
     "text": [
      "0\n"
     ]
    }
   ],
   "source": [
    "latest_version=spark.sql('''select max(version) from (describe history silver.products_silver)''').collect()[0][0]\n",
    "print(latest_version)\n",
    "\n",
    "last_commited_version=spark.sql('''select max(_commit_version) from gold.dim_product''').collect()[0][0]\n",
    "if last_commited_version==None:\n",
    "    last_commited_version=0\n",
    "    print(last_commited_version)\n",
    "else:\n",
    "    print(last_commited_version+1)"
   ]
  },
  {
   "cell_type": "code",
   "execution_count": 0,
   "metadata": {
    "application/vnd.databricks.v1+cell": {
     "cellMetadata": {
      "byteLimit": 2048000,
      "implicitDf": true,
      "rowLimit": 10000
     },
     "inputWidgets": {},
     "nuid": "f9184a35-b091-4ec6-81b9-3d5be7b7f4df",
     "showTitle": false,
     "title": ""
    }
   },
   "outputs": [
    {
     "output_type": "stream",
     "name": "stdout",
     "output_type": "stream",
     "text": [
      "Out[45]: DataFrame[num_affected_rows: bigint, num_updated_rows: bigint, num_deleted_rows: bigint, num_inserted_rows: bigint]"
     ]
    }
   ],
   "source": [
    "spark.sql(f'''\n",
    "merge into gold.dim_product as target\n",
    "using (select * from table_changes(\"silver.products_silver\", {last_commited_version+1}, {latest_version}) where _change_type!='update_preimage') as source\n",
    "  on target.ProductId=source.ProductId\n",
    "\n",
    "when matched and _change_type='delete' then delete\n",
    "\n",
    "when matched and _change_type!='delete' THEN UPDATE SET\n",
    "    ProductId=source.ProductId,\n",
    "    product_code=source.product_code,\n",
    "    product_name=source.product_name,\n",
    "    category=source.category,\n",
    "    description=source.description,\n",
    "    gender=source.gender,\n",
    "    color=source.color,\n",
    "    size=source.size,\n",
    "    active_status=source.active_status,\n",
    "    valid_from=source.valid_from,\n",
    "    valid_to=source.valid_to,\n",
    "    _commit_version=source._commit_version\n",
    "\n",
    "\n",
    "when not matched and _change_type!='delete' then insert (ProductId, product_code, product_name, category, description, gender, color, size, active_status, valid_from, valid_to, _commit_version\n",
    ")\n",
    "values (\n",
    "    source.ProductId,\n",
    "    source.product_code,\n",
    "    source.product_name,\n",
    "    source.category,\n",
    "    source.description,\n",
    "    source.gender,\n",
    "    source.color,\n",
    "    source.size,\n",
    "    source.active_status,\n",
    "    source.valid_from,\n",
    "    source.valid_to,\n",
    "    source._commit_version\n",
    ")'''\n",
    ")"
   ]
  },
  {
   "cell_type": "markdown",
   "metadata": {
    "application/vnd.databricks.v1+cell": {
     "cellMetadata": {},
     "inputWidgets": {},
     "nuid": "82d37118-df8f-43e8-afc0-76d65693e2c6",
     "showTitle": false,
     "title": ""
    }
   },
   "source": [
    "# Merge with CDF brands table"
   ]
  },
  {
   "cell_type": "code",
   "execution_count": 0,
   "metadata": {
    "application/vnd.databricks.v1+cell": {
     "cellMetadata": {
      "byteLimit": 2048000,
      "rowLimit": 10000
     },
     "inputWidgets": {},
     "nuid": "8bd62353-ef02-46bd-9295-707de5144564",
     "showTitle": false,
     "title": ""
    }
   },
   "outputs": [
    {
     "output_type": "stream",
     "name": "stdout",
     "output_type": "stream",
     "text": [
      "0\n"
     ]
    }
   ],
   "source": [
    "latest_version=spark.sql('''select max(version) from (describe history silver.brands_silver)''').collect()[0][0]\n",
    "print(latest_version)\n",
    "\n",
    "last_commited_version=spark.sql('''select max(_commit_version) from gold.dim_brand''').collect()[0][0]\n",
    "if last_commited_version==None:\n",
    "    last_commited_version=0\n",
    "    print(last_commited_version)\n",
    "else:\n",
    "    print(last_commited_version+1)"
   ]
  },
  {
   "cell_type": "code",
   "execution_count": 0,
   "metadata": {
    "application/vnd.databricks.v1+cell": {
     "cellMetadata": {
      "byteLimit": 2048000,
      "rowLimit": 10000
     },
     "inputWidgets": {},
     "nuid": "1d12fe76-8352-4d38-8b28-dc49bb604cc8",
     "showTitle": false,
     "title": ""
    }
   },
   "outputs": [
    {
     "output_type": "stream",
     "name": "stdout",
     "output_type": "stream",
     "text": [
      "Out[23]: DataFrame[num_affected_rows: bigint, num_updated_rows: bigint, num_deleted_rows: bigint, num_inserted_rows: bigint]"
     ]
    }
   ],
   "source": [
    "spark.sql(f'''\n",
    "merge into gold.dim_brand as target\n",
    "using (select * from table_changes(\"silver.brands_silver\", {last_commited_version+1}, {latest_version}) where _change_type!='update_preimage') as source\n",
    "  on target.BrandId=source.BrandId\n",
    "\n",
    "when matched and _change_type='delete' then delete\n",
    "\n",
    "when matched and _change_type!='delete' THEN UPDATE SET\n",
    "    BrandId=source.BrandId,\n",
    "    brand_code=source.brand_code,\n",
    "    name=source.name,\n",
    "    contact=source.contact,\n",
    "    country=source.country,\n",
    "    active_status=source.active_status,\n",
    "    valid_from=source.valid_from,\n",
    "    valid_to=source.valid_to,\n",
    "    _commit_version=source._commit_version\n",
    "\n",
    "when not matched and _change_type!='delete' then insert (BrandId, brand_code, name, contact, country, active_status, valid_from, valid_to, _commit_version)\n",
    "values (\n",
    "    source.BrandId,\n",
    "    source.brand_code,\n",
    "    source.name,\n",
    "    source.contact,\n",
    "    source.country,\n",
    "    source.active_status,\n",
    "    source.valid_from,\n",
    "    source.valid_to,\n",
    "    source._commit_version\n",
    ")'''\n",
    ")"
   ]
  },
  {
   "cell_type": "markdown",
   "metadata": {
    "application/vnd.databricks.v1+cell": {
     "cellMetadata": {},
     "inputWidgets": {},
     "nuid": "3122f747-ed18-425e-ba3f-f9f92cb76325",
     "showTitle": false,
     "title": ""
    }
   },
   "source": [
    "# Merge customers with cdf"
   ]
  },
  {
   "cell_type": "code",
   "execution_count": 0,
   "metadata": {
    "application/vnd.databricks.v1+cell": {
     "cellMetadata": {
      "byteLimit": 2048000,
      "rowLimit": 10000
     },
     "inputWidgets": {},
     "nuid": "682614b4-e0d9-4e13-a948-db51dec94f4d",
     "showTitle": false,
     "title": ""
    }
   },
   "outputs": [
    {
     "output_type": "stream",
     "name": "stdout",
     "output_type": "stream",
     "text": [
      "5\n0\n"
     ]
    }
   ],
   "source": [
    "latest_version=spark.sql('''select max(version) from (describe history silver.customers_silver)''').collect()[0][0]\n",
    "print(latest_version)\n",
    "\n",
    "last_commited_version=spark.sql('''select max(_commit_version) from gold.dim_customer''').collect()[0][0]\n",
    "if last_commited_version==None:\n",
    "    last_commited_version=0\n",
    "    print(last_commited_version)\n",
    "else:\n",
    "    print(last_commited_version+1)"
   ]
  },
  {
   "cell_type": "code",
   "execution_count": 0,
   "metadata": {
    "application/vnd.databricks.v1+cell": {
     "cellMetadata": {
      "byteLimit": 2048000,
      "rowLimit": 10000
     },
     "inputWidgets": {},
     "nuid": "1a7c30f7-0868-4602-adf1-29ba60a5afbd",
     "showTitle": false,
     "title": ""
    }
   },
   "outputs": [
    {
     "output_type": "stream",
     "name": "stdout",
     "output_type": "stream",
     "text": [
      "Out[57]: DataFrame[num_affected_rows: bigint, num_updated_rows: bigint, num_deleted_rows: bigint, num_inserted_rows: bigint]"
     ]
    }
   ],
   "source": [
    "spark.sql(f'''\n",
    "merge into gold.dim_customer as target\n",
    "using (select * from table_changes(\"silver.customers_silver\", {last_commited_version+1}, {latest_version}) where _change_type!='update_preimage') as source\n",
    "  on target.CustomerId=source.CustomerId\n",
    "\n",
    "when matched and _change_type='delete' then delete\n",
    "\n",
    "when matched and _change_type!='delete' THEN UPDATE SET\n",
    "    CustomerId=source.CustomerId,\n",
    "    customer_code=source.customer_code,\n",
    "    name=source.name,\n",
    "    surname=source.surname,\n",
    "    email=source.email,\n",
    "    country=source.country,\n",
    "    city=source.city,\n",
    "    address=source.address,\n",
    "    county=source.county,\n",
    "    state=source.state,\n",
    "    zip=source.zip,\n",
    "    active_status=source.active_status,\n",
    "    valid_from=source.valid_from,\n",
    "    valid_to=source.valid_to,\n",
    "    _commit_version=source._commit_version\n",
    "\n",
    "when not matched and _change_type!='delete' then insert (CustomerId, customer_code, name, surname, email, country, city, address, county, state, zip, active_status, valid_from, valid_to, _commit_version)\n",
    "values (\n",
    "    source.CustomerId,\n",
    "    source.customer_code,\n",
    "    source.name,\n",
    "    source.surname,\n",
    "    source.email,\n",
    "    source.country,\n",
    "    source.city,\n",
    "    source.address,\n",
    "    source.county,\n",
    "    source.state,\n",
    "    source.zip,\n",
    "    source.active_status,\n",
    "    source.valid_from,\n",
    "    source.valid_to,\n",
    "    source._commit_version\n",
    ")'''\n",
    ")"
   ]
  },
  {
   "cell_type": "markdown",
   "metadata": {
    "application/vnd.databricks.v1+cell": {
     "cellMetadata": {},
     "inputWidgets": {},
     "nuid": "2105b6ea-6360-44cf-9eee-1cb28f430a7e",
     "showTitle": false,
     "title": ""
    }
   },
   "source": [
    "# Merge Sales with cdf"
   ]
  },
  {
   "cell_type": "code",
   "execution_count": 0,
   "metadata": {
    "application/vnd.databricks.v1+cell": {
     "cellMetadata": {
      "byteLimit": 2048000,
      "rowLimit": 10000
     },
     "inputWidgets": {},
     "nuid": "af60218c-290e-4732-a596-ab7f597f8a5a",
     "showTitle": false,
     "title": ""
    }
   },
   "outputs": [
    {
     "output_type": "stream",
     "name": "stdout",
     "output_type": "stream",
     "text": [
      "3\n0\n"
     ]
    }
   ],
   "source": [
    "latest_version=spark.sql('''select max(version) from (describe history silver.sales_silver)''').collect()[0][0]\n",
    "print(latest_version)\n",
    "\n",
    "last_commited_version=spark.sql('''select max(_commit_version) from gold.fact_sales''').collect()[0][0]\n",
    "if last_commited_version==None:\n",
    "    last_commited_version=0\n",
    "    print(last_commited_version)\n",
    "else:\n",
    "    print(last_commited_version+1)"
   ]
  },
  {
   "cell_type": "code",
   "execution_count": 0,
   "metadata": {
    "application/vnd.databricks.v1+cell": {
     "cellMetadata": {
      "byteLimit": 2048000,
      "rowLimit": 10000
     },
     "inputWidgets": {},
     "nuid": "4be39809-cdbe-45e8-b5d4-6caabbf03a18",
     "showTitle": false,
     "title": ""
    }
   },
   "outputs": [
    {
     "output_type": "stream",
     "name": "stdout",
     "output_type": "stream",
     "text": [
      "Out[46]: DataFrame[num_affected_rows: bigint, num_updated_rows: bigint, num_deleted_rows: bigint, num_inserted_rows: bigint]"
     ]
    }
   ],
   "source": [
    "spark.sql(f'''\n",
    "merge into gold.fact_sales as target\n",
    "using (select * from table_changes(\"silver.sales_silver\", {last_commited_version+1}, {latest_version}) where _change_type!='update_preimage') as source\n",
    "  on target.Id=source.Id\n",
    "\n",
    "when matched and _change_type='delete' then delete\n",
    "\n",
    "when matched and _change_type!='delete' THEN UPDATE SET\n",
    "    Id=source.Id,\n",
    "    ProductId=source.ProductId,\n",
    "    BrandId=source.BrandId,\n",
    "    CustomerId=source.CustomerId,\n",
    "    AuditId=source.AuditId,\n",
    "    order_number=source.order_number,\n",
    "    order_line=source.order_line,\n",
    "    price=source.price,\n",
    "    qty=source.qty,\n",
    "    discount_perc=source.discount_perc,\n",
    "    cost=source.cost,\n",
    "    total_amount=(source.price*source.qty),\n",
    "    total_amount_with_discount=(source.price*source.qty)*(1-source.discount_perc/100),\n",
    "    _commit_version=source._commit_version\n",
    "\n",
    "when not matched and _change_type!='delete' then insert (Id, ProductId, BrandId, CustomerId, AuditId, order_number, order_line, price, qty, discount_perc, cost, total_amount, total_amount_with_discount, _commit_version)\n",
    "values (\n",
    "    source.Id,\n",
    "    source.ProductId,\n",
    "    source.BrandId,\n",
    "    source.CustomerId,\n",
    "    source.AuditId,\n",
    "    source.order_number,\n",
    "    source.order_line,\n",
    "    source.price,\n",
    "    source.qty,\n",
    "    source.discount_perc,\n",
    "    source.cost,\n",
    "    (source.price*source.qty),\n",
    "    (source.price*source.qty)*(1-source.discount_perc/100),\n",
    "    source._commit_version\n",
    ")'''\n",
    ")"
   ]
  },
  {
   "cell_type": "code",
   "execution_count": 0,
   "metadata": {
    "application/vnd.databricks.v1+cell": {
     "cellMetadata": {},
     "inputWidgets": {},
     "nuid": "2c16f1ec-fb76-464b-84e7-6c02f39f4f04",
     "showTitle": false,
     "title": ""
    }
   },
   "outputs": [],
   "source": []
  }
 ],
 "metadata": {
  "application/vnd.databricks.v1+notebook": {
   "dashboards": [],
   "language": "python",
   "notebookMetadata": {
    "mostRecentlyExecutedCommandWithImplicitDF": {
     "commandId": 705813807660717,
     "dataframes": [
      "_sqldf"
     ]
    },
    "pythonIndentUnit": 4
   },
   "notebookName": "004 CDF",
   "widgets": {}
  }
 },
 "nbformat": 4,
 "nbformat_minor": 0
}
