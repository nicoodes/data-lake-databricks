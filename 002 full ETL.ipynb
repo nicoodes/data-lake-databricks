{
 "cells": [
  {
   "cell_type": "markdown",
   "metadata": {
    "application/vnd.databricks.v1+cell": {
     "cellMetadata": {
      "byteLimit": 2048000,
      "rowLimit": 10000
     },
     "inputWidgets": {},
     "nuid": "bcad30fc-c203-454e-a2db-d973d29b2372",
     "showTitle": false,
     "title": ""
    }
   },
   "source": [
    "to check:\n",
    "- check schema, maybe change to correct dadta types (could hapend that a prod code is a numb and not a string and inferred as int)"
   ]
  },
  {
   "cell_type": "code",
   "execution_count": 0,
   "metadata": {
    "application/vnd.databricks.v1+cell": {
     "cellMetadata": {
      "byteLimit": 2048000,
      "rowLimit": 10000
     },
     "inputWidgets": {},
     "nuid": "d63edcf2-f0fb-428a-b409-d7b71d338f91",
     "showTitle": false,
     "title": ""
    }
   },
   "outputs": [],
   "source": [
    "#dbutils.fs.rm('/FileStore/mnt/test_bucket/landing/products/2022_06_09_091705_products___Copy.csv')"
   ]
  },
  {
   "cell_type": "code",
   "execution_count": 0,
   "metadata": {
    "application/vnd.databricks.v1+cell": {
     "cellMetadata": {
      "byteLimit": 2048000,
      "rowLimit": 10000
     },
     "inputWidgets": {},
     "nuid": "9afec087-1aa2-4cf4-8535-2356907cf147",
     "showTitle": false,
     "title": ""
    }
   },
   "outputs": [],
   "source": [
    "from pyspark.sql.types import *\n",
    "from pyspark.sql.functions import *\n",
    "import os"
   ]
  },
  {
   "cell_type": "markdown",
   "metadata": {
    "application/vnd.databricks.v1+cell": {
     "cellMetadata": {
      "byteLimit": 2048000,
      "rowLimit": 10000
     },
     "inputWidgets": {},
     "nuid": "7d1b01ee-9056-4443-9779-378f5462c39e",
     "showTitle": false,
     "title": ""
    }
   },
   "source": [
    "# Settings"
   ]
  },
  {
   "cell_type": "code",
   "execution_count": 0,
   "metadata": {
    "application/vnd.databricks.v1+cell": {
     "cellMetadata": {
      "byteLimit": 2048000,
      "rowLimit": 10000
     },
     "inputWidgets": {},
     "nuid": "1bd68b2b-a1ef-4ac8-a265-7e2d9dc7626e",
     "showTitle": false,
     "title": ""
    }
   },
   "outputs": [],
   "source": [
    "first_full_load=False # True only if first historical full load, otherwise leave as Flse for incremental load"
   ]
  },
  {
   "cell_type": "markdown",
   "metadata": {
    "application/vnd.databricks.v1+cell": {
     "cellMetadata": {
      "byteLimit": 2048000,
      "rowLimit": 10000
     },
     "inputWidgets": {},
     "nuid": "3531dfc8-b215-4c47-a518-de74f3b62608",
     "showTitle": false,
     "title": ""
    }
   },
   "source": [
    "### Paths to folders"
   ]
  },
  {
   "cell_type": "code",
   "execution_count": 0,
   "metadata": {
    "application/vnd.databricks.v1+cell": {
     "cellMetadata": {
      "byteLimit": 2048000,
      "rowLimit": 10000
     },
     "inputWidgets": {},
     "nuid": "6b1ea247-432b-480f-8df0-0a00f870b088",
     "showTitle": false,
     "title": ""
    }
   },
   "outputs": [],
   "source": [
    "landing_path='/FileStore/mnt/test_bucket/landing/'\n",
    "archive_path='/FileStore/mnt/test_bucket/archive/'\n",
    "silver_path='/FileStore/mnt/test_bucket/silver/'\n",
    "gold_path='/FileStore/mnt/test_bucket/gold/'"
   ]
  },
  {
   "cell_type": "markdown",
   "metadata": {
    "application/vnd.databricks.v1+cell": {
     "cellMetadata": {
      "byteLimit": 2048000,
      "rowLimit": 10000
     },
     "inputWidgets": {},
     "nuid": "9bfb50a5-a522-4895-9e56-58d792f282c9",
     "showTitle": false,
     "title": ""
    }
   },
   "source": [
    "# Product table"
   ]
  },
  {
   "cell_type": "code",
   "execution_count": 0,
   "metadata": {
    "application/vnd.databricks.v1+cell": {
     "cellMetadata": {
      "byteLimit": 2048000,
      "rowLimit": 10000
     },
     "inputWidgets": {},
     "nuid": "f9647c76-f01f-4019-829d-bedfbc6462b3",
     "showTitle": false,
     "title": ""
    },
    "jupyter": {
     "outputs_hidden": true
    }
   },
   "outputs": [],
   "source": [
    "table_name = 'products'\n",
    "table_schema=StructType([StructField('product_code', StringType(), False), StructField('product_name', StringType(), True), StructField('category', StringType(), True), StructField('description', StringType(), True), StructField('gender', StringType(), True), StructField('color', StringType(), True), StructField('size', StringType(), True)])"
   ]
  },
  {
   "cell_type": "markdown",
   "metadata": {
    "application/vnd.databricks.v1+cell": {
     "cellMetadata": {
      "byteLimit": 2048000,
      "rowLimit": 10000
     },
     "inputWidgets": {},
     "nuid": "053e5b7f-d3ea-4210-9a3e-03e393a92c42",
     "showTitle": false,
     "title": ""
    }
   },
   "source": [
    "### Load data"
   ]
  },
  {
   "cell_type": "code",
   "execution_count": 0,
   "metadata": {
    "application/vnd.databricks.v1+cell": {
     "cellMetadata": {
      "byteLimit": 2048000,
      "rowLimit": 10000
     },
     "inputWidgets": {},
     "nuid": "766d08a8-f23d-4017-9cd0-21fade92be59",
     "showTitle": false,
     "title": ""
    }
   },
   "outputs": [],
   "source": [
    "# read all files inside folder\n",
    "df=(\n",
    "    spark.read.csv(landing_path + table_name, header=True, schema=table_schema).select('*', '_metadata.*').drop('file_name')\n",
    ")"
   ]
  },
  {
   "cell_type": "code",
   "execution_count": 0,
   "metadata": {
    "application/vnd.databricks.v1+cell": {
     "cellMetadata": {
      "byteLimit": 2048000,
      "rowLimit": 10000
     },
     "inputWidgets": {},
     "nuid": "18a0de32-141e-4243-b383-bdaba3f8478f",
     "showTitle": false,
     "title": ""
    }
   },
   "outputs": [
    {
     "output_type": "display_data",
     "data": {
      "text/html": [
       "<style scoped>\n",
       "  .table-result-container {\n",
       "    max-height: 300px;\n",
       "    overflow: auto;\n",
       "  }\n",
       "  table, th, td {\n",
       "    border: 1px solid black;\n",
       "    border-collapse: collapse;\n",
       "  }\n",
       "  th, td {\n",
       "    padding: 5px;\n",
       "  }\n",
       "  th {\n",
       "    text-align: left;\n",
       "  }\n",
       "</style><div class='table-result-container'><table class='table-result'><thead style='background-color: white'><tr><th>product_code</th><th>product_name</th><th>category</th><th>description</th><th>gender</th><th>color</th><th>size</th><th>file_path</th><th>file_size</th><th>file_modification_time</th></tr></thead><tbody><tr><td>PR0001</td><td>Product 1</td><td>changed</td><td>running shoes</td><td>unisex</td><td>black</td><td>8</td><td>dbfs:/FileStore/mnt/test_bucket/landing/products/2022_06_09_091705_products___Copy.csv</td><td>350</td><td>2023-11-28T20:39:02.000+0000</td></tr><tr><td>PR0002</td><td>Product 2</td><td>changed</td><td>long pants</td><td>female</td><td>white</td><td>42</td><td>dbfs:/FileStore/mnt/test_bucket/landing/products/2022_06_09_091705_products___Copy.csv</td><td>350</td><td>2023-11-28T20:39:02.000+0000</td></tr><tr><td>PR0098</td><td>Product 98</td><td>pants</td><td>long skinny</td><td>female</td><td>black</td><td>32</td><td>dbfs:/FileStore/mnt/test_bucket/landing/products/2022_06_09_091705_products___Copy.csv</td><td>350</td><td>2023-11-28T20:39:02.000+0000</td></tr><tr><td>PR0099</td><td>Product 99</td><td>accessories</td><td>accessories young girls</td><td>female</td><td>blue</td><td>UN</td><td>dbfs:/FileStore/mnt/test_bucket/landing/products/2022_06_09_091705_products___Copy.csv</td><td>350</td><td>2023-11-28T20:39:02.000+0000</td></tr><tr><td>PR0004</td><td>Product 4</td><td>shoes</td><td>sport shoes</td><td>female</td><td>blue</td><td>7</td><td>dbfs:/FileStore/mnt/test_bucket/landing/products/2022_06_09_091705_products___Copy.csv</td><td>350</td><td>2023-11-28T20:39:02.000+0000</td></tr></tbody></table></div>"
      ]
     },
     "metadata": {
      "application/vnd.databricks.v1+output": {
       "addedWidgets": {},
       "aggData": [],
       "aggError": "",
       "aggOverflow": false,
       "aggSchema": [],
       "aggSeriesLimitReached": false,
       "aggType": "",
       "arguments": {},
       "columnCustomDisplayInfos": {},
       "data": [
        [
         "PR0001",
         "Product 1",
         "changed",
         "running shoes",
         "unisex",
         "black",
         "8",
         "dbfs:/FileStore/mnt/test_bucket/landing/products/2022_06_09_091705_products___Copy.csv",
         350,
         "2023-11-28T20:39:02.000+0000"
        ],
        [
         "PR0002",
         "Product 2",
         "changed",
         "long pants",
         "female",
         "white",
         "42",
         "dbfs:/FileStore/mnt/test_bucket/landing/products/2022_06_09_091705_products___Copy.csv",
         350,
         "2023-11-28T20:39:02.000+0000"
        ],
        [
         "PR0098",
         "Product 98",
         "pants",
         "long skinny",
         "female",
         "black",
         "32",
         "dbfs:/FileStore/mnt/test_bucket/landing/products/2022_06_09_091705_products___Copy.csv",
         350,
         "2023-11-28T20:39:02.000+0000"
        ],
        [
         "PR0099",
         "Product 99",
         "accessories",
         "accessories young girls",
         "female",
         "blue",
         "UN",
         "dbfs:/FileStore/mnt/test_bucket/landing/products/2022_06_09_091705_products___Copy.csv",
         350,
         "2023-11-28T20:39:02.000+0000"
        ],
        [
         "PR0004",
         "Product 4",
         "shoes",
         "sport shoes",
         "female",
         "blue",
         "7",
         "dbfs:/FileStore/mnt/test_bucket/landing/products/2022_06_09_091705_products___Copy.csv",
         350,
         "2023-11-28T20:39:02.000+0000"
        ]
       ],
       "datasetInfos": [],
       "dbfsResultPath": null,
       "isJsonSchema": true,
       "metadata": {},
       "overflow": false,
       "plotOptions": {
        "customPlotOptions": {},
        "displayType": "table",
        "pivotAggregation": null,
        "pivotColumns": null,
        "xColumns": null,
        "yColumns": null
       },
       "removedWidgets": [],
       "schema": [
        {
         "metadata": "{}",
         "name": "product_code",
         "type": "\"string\""
        },
        {
         "metadata": "{}",
         "name": "product_name",
         "type": "\"string\""
        },
        {
         "metadata": "{}",
         "name": "category",
         "type": "\"string\""
        },
        {
         "metadata": "{}",
         "name": "description",
         "type": "\"string\""
        },
        {
         "metadata": "{}",
         "name": "gender",
         "type": "\"string\""
        },
        {
         "metadata": "{}",
         "name": "color",
         "type": "\"string\""
        },
        {
         "metadata": "{}",
         "name": "size",
         "type": "\"string\""
        },
        {
         "metadata": "{}",
         "name": "file_path",
         "type": "\"string\""
        },
        {
         "metadata": "{}",
         "name": "file_size",
         "type": "\"long\""
        },
        {
         "metadata": "{}",
         "name": "file_modification_time",
         "type": "\"timestamp\""
        }
       ],
       "type": "table"
      }
     },
     "output_type": "display_data"
    }
   ],
   "source": [
    "display(df)"
   ]
  },
  {
   "cell_type": "markdown",
   "metadata": {
    "application/vnd.databricks.v1+cell": {
     "cellMetadata": {
      "byteLimit": 2048000,
      "rowLimit": 10000
     },
     "inputWidgets": {},
     "nuid": "31250aff-f887-4368-87bd-740518b354aa",
     "showTitle": false,
     "title": ""
    }
   },
   "source": [
    "### Data cleaning"
   ]
  },
  {
   "cell_type": "code",
   "execution_count": 0,
   "metadata": {
    "application/vnd.databricks.v1+cell": {
     "cellMetadata": {
      "byteLimit": 2048000,
      "rowLimit": 10000
     },
     "inputWidgets": {},
     "nuid": "3d59f040-cc83-4ae3-a0af-64a1dbd1a73d",
     "showTitle": false,
     "title": ""
    }
   },
   "outputs": [],
   "source": [
    "# Remove any possible duplicates\n",
    "df=df.dropDuplicates(subset=['product_code', 'product_name', 'category', 'description', 'gender', 'color', 'size'])"
   ]
  },
  {
   "cell_type": "code",
   "execution_count": 0,
   "metadata": {
    "application/vnd.databricks.v1+cell": {
     "cellMetadata": {
      "byteLimit": 2048000,
      "rowLimit": 10000
     },
     "inputWidgets": {},
     "nuid": "6cf9d322-bd13-4d24-ac39-c3d52434bcda",
     "showTitle": false,
     "title": ""
    }
   },
   "outputs": [],
   "source": [
    "if first_full_load: \n",
    "    #df.write.format('delta').option('mergeSchema', 'true').mode('overwrite').saveAsTable('silver.' + table_name + '_silver')\n",
    "\n",
    "    # add columns for scd 2\n",
    "    df=df.withColumn(\"active_status\", lit('Y')).withColumn(\"valid_from\", lit(\"2023-01-01\")).withColumn(\"valid_to\", lit(\"9999-12-31\"))\n",
    "\n",
    "    # create temp view\n",
    "    df.createOrReplaceTempView('df')\n",
    "\n",
    "    # insert values\n",
    "    spark.sql(\n",
    "        '''\n",
    "        insert into silver.products_silver (product_code, product_name, category, description, gender, color, size, file_path, file_size, file_modification_time, active_status, valid_from, valid_to)\n",
    "        select * from df\n",
    "        '''\n",
    "    )"
   ]
  },
  {
   "cell_type": "code",
   "execution_count": 0,
   "metadata": {
    "application/vnd.databricks.v1+cell": {
     "cellMetadata": {
      "byteLimit": 2048000,
      "rowLimit": 10000
     },
     "inputWidgets": {},
     "nuid": "6a9ee9a9-51d9-45ec-8870-aad92132d2a5",
     "showTitle": false,
     "title": ""
    }
   },
   "outputs": [
    {
     "output_type": "stream",
     "name": "stdout",
     "output_type": "stream",
     "text": [
      "Out[4]: DataFrame[]"
     ]
    }
   ],
   "source": [
    "# added in order to register table in catalog if usisng new cluster (usually happnes working with community edition)\n",
    "spark.sql('create database if not exists silver')\n",
    "spark.sql('''create table if not exists silver.products_silver using delta\n",
    "          location \"/FileStore/mnt/test_bucket/silver/products_silver\"''')\n"
   ]
  },
  {
   "cell_type": "markdown",
   "metadata": {
    "application/vnd.databricks.v1+cell": {
     "cellMetadata": {
      "byteLimit": 2048000,
      "rowLimit": 10000
     },
     "inputWidgets": {},
     "nuid": "1f112fbe-7edc-4b51-a5dc-41110c2782cb",
     "showTitle": false,
     "title": ""
    }
   },
   "source": [
    "### SCD 2"
   ]
  },
  {
   "cell_type": "code",
   "execution_count": 0,
   "metadata": {
    "application/vnd.databricks.v1+cell": {
     "cellMetadata": {
      "byteLimit": 2048000,
      "rowLimit": 10000
     },
     "inputWidgets": {},
     "nuid": "088a8a0f-698a-4b4c-8300-b5d625922814",
     "showTitle": false,
     "title": ""
    }
   },
   "outputs": [],
   "source": [
    "join_columns=[\"product_code\"]\n",
    "main_columns_source=[\"product_name\", \"category\", \"description\", \"gender\", \"color\", \"size\"]\n",
    "main_columns_target=[f\"target_{x}\" for x in main_columns_source]\n",
    "all_columns=[\"ProductId\", \"product_code\", \"product_name\", \"category\", \"description\", \"gender\", \"color\", \"size\", \"file_path\", \"file_size\", \"file_modification_time\", \"active_status\", \"valid_from\", \"valid_to\"]"
   ]
  },
  {
   "cell_type": "code",
   "execution_count": 0,
   "metadata": {
    "application/vnd.databricks.v1+cell": {
     "cellMetadata": {
      "byteLimit": 2048000,
      "implicitDf": true,
      "rowLimit": 10000
     },
     "inputWidgets": {},
     "nuid": "599957be-002b-4be5-a0ba-ba2042bda767",
     "showTitle": false,
     "title": ""
    }
   },
   "outputs": [],
   "source": [
    "targetDF=spark.read.format('delta').table('silver.products_silver')\n",
    "sourceDF=df"
   ]
  },
  {
   "cell_type": "markdown",
   "metadata": {
    "application/vnd.databricks.v1+cell": {
     "cellMetadata": {},
     "inputWidgets": {},
     "nuid": "22845b3d-be2b-43e6-a196-46f74021ec6e",
     "showTitle": false,
     "title": ""
    }
   },
   "source": [
    "##### Step 1 - left join to new data the main table"
   ]
  },
  {
   "cell_type": "code",
   "execution_count": 0,
   "metadata": {
    "application/vnd.databricks.v1+cell": {
     "cellMetadata": {
      "byteLimit": 2048000,
      "rowLimit": 10000
     },
     "inputWidgets": {},
     "nuid": "c8d2aebd-3ad5-4dc5-83ca-03b50bf9ed50",
     "showTitle": false,
     "title": ""
    }
   },
   "outputs": [],
   "source": [
    "#display(targetDF)"
   ]
  },
  {
   "cell_type": "code",
   "execution_count": 0,
   "metadata": {
    "application/vnd.databricks.v1+cell": {
     "cellMetadata": {
      "byteLimit": 2048000,
      "rowLimit": 10000
     },
     "inputWidgets": {},
     "nuid": "831fe8d0-6c6a-4931-8db9-26a42a08eb53",
     "showTitle": false,
     "title": ""
    }
   },
   "outputs": [],
   "source": [
    "#display(sourceDF)"
   ]
  },
  {
   "cell_type": "code",
   "execution_count": 0,
   "metadata": {
    "application/vnd.databricks.v1+cell": {
     "cellMetadata": {
      "byteLimit": 2048000,
      "rowLimit": 10000
     },
     "inputWidgets": {},
     "nuid": "fad591b2-45b3-45a3-a9cc-9134e2d93d4e",
     "showTitle": false,
     "title": ""
    }
   },
   "outputs": [
    {
     "output_type": "stream",
     "name": "stdout",
     "output_type": "stream",
     "text": [
      "targetDF[\"product_code\"].alias(\"target_product_code\"), targetDF[\"product_name\"].alias(\"target_product_name\"), targetDF[\"category\"].alias(\"target_category\"), targetDF[\"description\"].alias(\"target_description\"), targetDF[\"gender\"].alias(\"target_gender\"), targetDF[\"color\"].alias(\"target_color\"), targetDF[\"size\"].alias(\"target_size\"), targetDF[\"file_path\"].alias(\"target_file_path\"), targetDF[\"file_size\"].alias(\"target_file_size\"), targetDF[\"file_modification_time\"].alias(\"target_file_modification_time\"), targetDF[\"active_status\"].alias(\"target_active_status\"), targetDF[\"valid_from\"].alias(\"target_valid_from\"), targetDF[\"valid_to\"].alias(\"target_valid_to\"), \n"
     ]
    }
   ],
   "source": [
    "text=''\n",
    "for c in all_columns:\n",
    "    text+=f'targetDF[\"{c}\"].alias(\"target_{c}\"), '\n",
    "print(text)"
   ]
  },
  {
   "cell_type": "code",
   "execution_count": 0,
   "metadata": {
    "application/vnd.databricks.v1+cell": {
     "cellMetadata": {
      "byteLimit": 2048000,
      "implicitDf": true,
      "rowLimit": 10000
     },
     "inputWidgets": {},
     "nuid": "07070a3d-1766-409d-b8a1-41f381b7af01",
     "showTitle": false,
     "title": ""
    }
   },
   "outputs": [
    {
     "output_type": "display_data",
     "data": {
      "text/html": [
       "<style scoped>\n",
       "  .table-result-container {\n",
       "    max-height: 300px;\n",
       "    overflow: auto;\n",
       "  }\n",
       "  table, th, td {\n",
       "    border: 1px solid black;\n",
       "    border-collapse: collapse;\n",
       "  }\n",
       "  th, td {\n",
       "    padding: 5px;\n",
       "  }\n",
       "  th {\n",
       "    text-align: left;\n",
       "  }\n",
       "</style><div class='table-result-container'><table class='table-result'><thead style='background-color: white'><tr><th>product_code</th><th>product_name</th><th>category</th><th>description</th><th>gender</th><th>color</th><th>size</th><th>file_path</th><th>file_size</th><th>file_modification_time</th><th>ProductId</th><th>product_name</th><th>category</th><th>description</th><th>gender</th><th>color</th><th>size</th><th>file_path</th><th>file_size</th><th>file_modification_time</th><th>active_status</th><th>valid_from</th><th>valid_to</th></tr></thead><tbody><tr><td>PR0098</td><td>Product 98</td><td>pants</td><td>long skinny</td><td>female</td><td>black</td><td>32</td><td>dbfs:/FileStore/mnt/test_bucket/landing/products/2022_06_09_091705_products___Copy.csv</td><td>350</td><td>2023-11-28T20:39:02.000+0000</td><td>7</td><td>Product 98</td><td>pants</td><td>long skinny</td><td>female</td><td>black</td><td>32</td><td>dbfs:/FileStore/mnt/test_bucket/landing/products/2022_06_09_091705_products___Copy.csv</td><td>350</td><td>2023-11-28T20:39:02.000+0000</td><td>Y</td><td>2023-11-28</td><td>9999-12-31</td></tr><tr><td>PR0002</td><td>Product 2</td><td>changed</td><td>long pants</td><td>female</td><td>white</td><td>42</td><td>dbfs:/FileStore/mnt/test_bucket/landing/products/2022_06_09_091705_products___Copy.csv</td><td>350</td><td>2023-11-28T20:39:02.000+0000</td><td>8</td><td>Product 2</td><td>changed</td><td>long pants</td><td>female</td><td>white</td><td>42</td><td>dbfs:/FileStore/mnt/test_bucket/landing/products/2022_06_09_091705_products___Copy.csv</td><td>350</td><td>2023-11-28T20:39:02.000+0000</td><td>Y</td><td>2023-11-28</td><td>9999-12-31</td></tr><tr><td>PR0004</td><td>Product 4</td><td>shoes</td><td>sport shoes</td><td>female</td><td>blue</td><td>7</td><td>dbfs:/FileStore/mnt/test_bucket/landing/products/2022_06_09_091705_products___Copy.csv</td><td>350</td><td>2023-11-28T20:39:02.000+0000</td><td>3</td><td>Product 4</td><td>shoes</td><td>sport shoes</td><td>female</td><td>blue</td><td>7</td><td>dbfs:/FileStore/mnt/test_bucket/landing/products/2022_06_09_091705_products.csv</td><td>398</td><td>2023-11-28T20:37:57.000+0000</td><td>Y</td><td>2023-01-01</td><td>9999-12-31</td></tr><tr><td>PR0001</td><td>Product 1</td><td>changed</td><td>running shoes</td><td>unisex</td><td>black</td><td>8</td><td>dbfs:/FileStore/mnt/test_bucket/landing/products/2022_06_09_091705_products___Copy.csv</td><td>350</td><td>2023-11-28T20:39:02.000+0000</td><td>10</td><td>Product 1</td><td>changed</td><td>running shoes</td><td>unisex</td><td>black</td><td>8</td><td>dbfs:/FileStore/mnt/test_bucket/landing/products/2022_06_09_091705_products___Copy.csv</td><td>350</td><td>2023-11-28T20:39:02.000+0000</td><td>Y</td><td>2023-11-28</td><td>9999-12-31</td></tr><tr><td>PR0099</td><td>Product 99</td><td>accessories</td><td>accessories young girls</td><td>female</td><td>blue</td><td>UN</td><td>dbfs:/FileStore/mnt/test_bucket/landing/products/2022_06_09_091705_products___Copy.csv</td><td>350</td><td>2023-11-28T20:39:02.000+0000</td><td>9</td><td>Product 99</td><td>accessories</td><td>accessories young girls</td><td>female</td><td>blue</td><td>UN</td><td>dbfs:/FileStore/mnt/test_bucket/landing/products/2022_06_09_091705_products___Copy.csv</td><td>350</td><td>2023-11-28T20:39:02.000+0000</td><td>Y</td><td>2023-11-28</td><td>9999-12-31</td></tr></tbody></table></div>"
      ]
     },
     "metadata": {
      "application/vnd.databricks.v1+output": {
       "addedWidgets": {},
       "aggData": [],
       "aggError": "",
       "aggOverflow": false,
       "aggSchema": [],
       "aggSeriesLimitReached": false,
       "aggType": "",
       "arguments": {},
       "columnCustomDisplayInfos": {},
       "data": [
        [
         "PR0098",
         "Product 98",
         "pants",
         "long skinny",
         "female",
         "black",
         "32",
         "dbfs:/FileStore/mnt/test_bucket/landing/products/2022_06_09_091705_products___Copy.csv",
         350,
         "2023-11-28T20:39:02.000+0000",
         7,
         "Product 98",
         "pants",
         "long skinny",
         "female",
         "black",
         "32",
         "dbfs:/FileStore/mnt/test_bucket/landing/products/2022_06_09_091705_products___Copy.csv",
         350,
         "2023-11-28T20:39:02.000+0000",
         "Y",
         "2023-11-28",
         "9999-12-31"
        ],
        [
         "PR0002",
         "Product 2",
         "changed",
         "long pants",
         "female",
         "white",
         "42",
         "dbfs:/FileStore/mnt/test_bucket/landing/products/2022_06_09_091705_products___Copy.csv",
         350,
         "2023-11-28T20:39:02.000+0000",
         8,
         "Product 2",
         "changed",
         "long pants",
         "female",
         "white",
         "42",
         "dbfs:/FileStore/mnt/test_bucket/landing/products/2022_06_09_091705_products___Copy.csv",
         350,
         "2023-11-28T20:39:02.000+0000",
         "Y",
         "2023-11-28",
         "9999-12-31"
        ],
        [
         "PR0004",
         "Product 4",
         "shoes",
         "sport shoes",
         "female",
         "blue",
         "7",
         "dbfs:/FileStore/mnt/test_bucket/landing/products/2022_06_09_091705_products___Copy.csv",
         350,
         "2023-11-28T20:39:02.000+0000",
         3,
         "Product 4",
         "shoes",
         "sport shoes",
         "female",
         "blue",
         "7",
         "dbfs:/FileStore/mnt/test_bucket/landing/products/2022_06_09_091705_products.csv",
         398,
         "2023-11-28T20:37:57.000+0000",
         "Y",
         "2023-01-01",
         "9999-12-31"
        ],
        [
         "PR0001",
         "Product 1",
         "changed",
         "running shoes",
         "unisex",
         "black",
         "8",
         "dbfs:/FileStore/mnt/test_bucket/landing/products/2022_06_09_091705_products___Copy.csv",
         350,
         "2023-11-28T20:39:02.000+0000",
         10,
         "Product 1",
         "changed",
         "running shoes",
         "unisex",
         "black",
         "8",
         "dbfs:/FileStore/mnt/test_bucket/landing/products/2022_06_09_091705_products___Copy.csv",
         350,
         "2023-11-28T20:39:02.000+0000",
         "Y",
         "2023-11-28",
         "9999-12-31"
        ],
        [
         "PR0099",
         "Product 99",
         "accessories",
         "accessories young girls",
         "female",
         "blue",
         "UN",
         "dbfs:/FileStore/mnt/test_bucket/landing/products/2022_06_09_091705_products___Copy.csv",
         350,
         "2023-11-28T20:39:02.000+0000",
         9,
         "Product 99",
         "accessories",
         "accessories young girls",
         "female",
         "blue",
         "UN",
         "dbfs:/FileStore/mnt/test_bucket/landing/products/2022_06_09_091705_products___Copy.csv",
         350,
         "2023-11-28T20:39:02.000+0000",
         "Y",
         "2023-11-28",
         "9999-12-31"
        ]
       ],
       "datasetInfos": [],
       "dbfsResultPath": null,
       "isJsonSchema": true,
       "metadata": {},
       "overflow": false,
       "plotOptions": {
        "customPlotOptions": {},
        "displayType": "table",
        "pivotAggregation": null,
        "pivotColumns": null,
        "xColumns": null,
        "yColumns": null
       },
       "removedWidgets": [],
       "schema": [
        {
         "metadata": "{}",
         "name": "product_code",
         "type": "\"string\""
        },
        {
         "metadata": "{}",
         "name": "product_name",
         "type": "\"string\""
        },
        {
         "metadata": "{}",
         "name": "category",
         "type": "\"string\""
        },
        {
         "metadata": "{}",
         "name": "description",
         "type": "\"string\""
        },
        {
         "metadata": "{}",
         "name": "gender",
         "type": "\"string\""
        },
        {
         "metadata": "{}",
         "name": "color",
         "type": "\"string\""
        },
        {
         "metadata": "{}",
         "name": "size",
         "type": "\"string\""
        },
        {
         "metadata": "{}",
         "name": "file_path",
         "type": "\"string\""
        },
        {
         "metadata": "{}",
         "name": "file_size",
         "type": "\"long\""
        },
        {
         "metadata": "{}",
         "name": "file_modification_time",
         "type": "\"timestamp\""
        },
        {
         "metadata": "{}",
         "name": "ProductId",
         "type": "\"long\""
        },
        {
         "metadata": "{}",
         "name": "product_name",
         "type": "\"string\""
        },
        {
         "metadata": "{}",
         "name": "category",
         "type": "\"string\""
        },
        {
         "metadata": "{}",
         "name": "description",
         "type": "\"string\""
        },
        {
         "metadata": "{}",
         "name": "gender",
         "type": "\"string\""
        },
        {
         "metadata": "{}",
         "name": "color",
         "type": "\"string\""
        },
        {
         "metadata": "{}",
         "name": "size",
         "type": "\"string\""
        },
        {
         "metadata": "{}",
         "name": "file_path",
         "type": "\"string\""
        },
        {
         "metadata": "{}",
         "name": "file_size",
         "type": "\"long\""
        },
        {
         "metadata": "{}",
         "name": "file_modification_time",
         "type": "\"timestamp\""
        },
        {
         "metadata": "{}",
         "name": "active_status",
         "type": "\"string\""
        },
        {
         "metadata": "{}",
         "name": "valid_from",
         "type": "\"date\""
        },
        {
         "metadata": "{}",
         "name": "valid_to",
         "type": "\"date\""
        }
       ],
       "type": "table"
      }
     },
     "output_type": "display_data"
    }
   ],
   "source": [
    "## Here all columns including PK\n",
    "joinDF=(\n",
    "    sourceDF.join(\n",
    "        targetDF.where(col(\"active_status\")=='Y'),\n",
    "        #(sourceDF.botany_order_no==targetDF.botany_order_no) & (sourceDF.line_no==targetDF.line_no) & (targetDF.active_status=='Y'),\n",
    "        #(sourceDF[\"product_code\"]==targetDF[\"product_code\"])  & (targetDF[\"active_status\"]=='Y'),\n",
    "        *join_columns,\n",
    "        'leftouter'\n",
    "    )\n",
    "    .select(\n",
    "        sourceDF['*'],\n",
    "        targetDF[\"ProductId\"].alias(\"target_ProductId\"),\n",
    "        targetDF[\"product_code\"].alias(\"target_product_code\"), targetDF[\"product_name\"].alias(\"target_product_name\"), targetDF[\"category\"].alias(\"target_category\"), targetDF[\"description\"].alias(\"target_description\"), targetDF[\"gender\"].alias(\"target_gender\"), targetDF[\"color\"].alias(\"target_color\"), targetDF[\"size\"].alias(\"target_size\")\n",
    "    )\n",
    ")\n",
    "\n",
    "display(joinDF)"
   ]
  },
  {
   "cell_type": "markdown",
   "metadata": {
    "application/vnd.databricks.v1+cell": {
     "cellMetadata": {
      "byteLimit": 2048000,
      "rowLimit": 10000
     },
     "inputWidgets": {},
     "nuid": "7c4dfb78-7f9d-4de4-ae28-51017d598750",
     "showTitle": false,
     "title": ""
    }
   },
   "source": [
    "##### Step 2 - Filter out only changed records\n",
    "\n",
    "Here only columns i need, not columns that have PK"
   ]
  },
  {
   "cell_type": "code",
   "execution_count": 0,
   "metadata": {
    "application/vnd.databricks.v1+cell": {
     "cellMetadata": {
      "byteLimit": 2048000,
      "rowLimit": 10000
     },
     "inputWidgets": {},
     "nuid": "311f283a-9b27-4257-86c8-2c4a2aaecb20",
     "showTitle": false,
     "title": ""
    }
   },
   "outputs": [],
   "source": [
    "text1=''\n",
    "text2=''\n",
    "for col in main_columns_source:\n",
    "    text1+=f'col(\"{col}\"), '\n",
    "    text2+=f'col(\"target_{col}\"), '\n",
    "print(text1)\n",
    "print(text2)"
   ]
  },
  {
   "cell_type": "code",
   "execution_count": 0,
   "metadata": {
    "application/vnd.databricks.v1+cell": {
     "cellMetadata": {
      "byteLimit": 2048000,
      "rowLimit": 10000
     },
     "inputWidgets": {},
     "nuid": "2f8347be-3a48-4c5f-a68e-6758655e9e21",
     "showTitle": false,
     "title": ""
    }
   },
   "outputs": [
    {
     "output_type": "display_data",
     "data": {
      "text/html": [
       "<style scoped>\n",
       "  .table-result-container {\n",
       "    max-height: 300px;\n",
       "    overflow: auto;\n",
       "  }\n",
       "  table, th, td {\n",
       "    border: 1px solid black;\n",
       "    border-collapse: collapse;\n",
       "  }\n",
       "  th, td {\n",
       "    padding: 5px;\n",
       "  }\n",
       "  th {\n",
       "    text-align: left;\n",
       "  }\n",
       "</style><div class='table-result-container'><table class='table-result'><thead style='background-color: white'><tr><th>product_code</th><th>product_name</th><th>category</th><th>description</th><th>gender</th><th>color</th><th>size</th><th>file_path</th><th>file_size</th><th>file_modification_time</th><th>target_ProductId</th><th>target_product_code</th><th>target_product_name</th><th>target_category</th><th>target_description</th><th>target_gender</th><th>target_color</th><th>target_size</th></tr></thead><tbody></tbody></table></div>"
      ]
     },
     "metadata": {
      "application/vnd.databricks.v1+output": {
       "addedWidgets": {},
       "aggData": [],
       "aggError": "",
       "aggOverflow": false,
       "aggSchema": [],
       "aggSeriesLimitReached": false,
       "aggType": "",
       "arguments": {},
       "columnCustomDisplayInfos": {},
       "data": [],
       "datasetInfos": [],
       "dbfsResultPath": null,
       "isJsonSchema": true,
       "metadata": {},
       "overflow": false,
       "plotOptions": {
        "customPlotOptions": {},
        "displayType": "table",
        "pivotAggregation": null,
        "pivotColumns": null,
        "xColumns": null,
        "yColumns": null
       },
       "removedWidgets": [],
       "schema": [
        {
         "metadata": "{}",
         "name": "product_code",
         "type": "\"string\""
        },
        {
         "metadata": "{}",
         "name": "product_name",
         "type": "\"string\""
        },
        {
         "metadata": "{}",
         "name": "category",
         "type": "\"string\""
        },
        {
         "metadata": "{}",
         "name": "description",
         "type": "\"string\""
        },
        {
         "metadata": "{}",
         "name": "gender",
         "type": "\"string\""
        },
        {
         "metadata": "{}",
         "name": "color",
         "type": "\"string\""
        },
        {
         "metadata": "{}",
         "name": "size",
         "type": "\"string\""
        },
        {
         "metadata": "{}",
         "name": "file_path",
         "type": "\"string\""
        },
        {
         "metadata": "{}",
         "name": "file_size",
         "type": "\"long\""
        },
        {
         "metadata": "{}",
         "name": "file_modification_time",
         "type": "\"timestamp\""
        },
        {
         "metadata": "{}",
         "name": "target_ProductId",
         "type": "\"long\""
        },
        {
         "metadata": "{}",
         "name": "target_product_code",
         "type": "\"string\""
        },
        {
         "metadata": "{}",
         "name": "target_product_name",
         "type": "\"string\""
        },
        {
         "metadata": "{}",
         "name": "target_category",
         "type": "\"string\""
        },
        {
         "metadata": "{}",
         "name": "target_description",
         "type": "\"string\""
        },
        {
         "metadata": "{}",
         "name": "target_gender",
         "type": "\"string\""
        },
        {
         "metadata": "{}",
         "name": "target_color",
         "type": "\"string\""
        },
        {
         "metadata": "{}",
         "name": "target_size",
         "type": "\"string\""
        }
       ],
       "type": "table"
      }
     },
     "output_type": "display_data"
    }
   ],
   "source": [
    "filterDF=(\n",
    "        joinDF.filter(\n",
    "            xxhash64(col(\"product_name\"), col(\"category\"), col(\"description\"), col(\"gender\"), col(\"color\"), col(\"size\"))\n",
    "            != xxhash64(col(\"target_product_name\"), col(\"target_category\"), col(\"target_description\"), col(\"target_gender\"), col(\"target_color\"), col(\"target_size\"))\n",
    "        )\n",
    "    )\n",
    "\n",
    "display(filterDF)"
   ]
  },
  {
   "cell_type": "markdown",
   "metadata": {
    "application/vnd.databricks.v1+cell": {
     "cellMetadata": {
      "byteLimit": 2048000,
      "rowLimit": 10000
     },
     "inputWidgets": {},
     "nuid": "effb7331-abcd-4efa-8236-e0977ae7eaf8",
     "showTitle": false,
     "title": ""
    }
   },
   "source": [
    "##### Step 3 - create merge key"
   ]
  },
  {
   "cell_type": "code",
   "execution_count": 0,
   "metadata": {
    "application/vnd.databricks.v1+cell": {
     "cellMetadata": {
      "byteLimit": 2048000,
      "rowLimit": 10000
     },
     "inputWidgets": {},
     "nuid": "88027c3a-0aec-4d9e-9331-007b2306b648",
     "showTitle": false,
     "title": ""
    }
   },
   "outputs": [
    {
     "output_type": "display_data",
     "data": {
      "text/html": [
       "<style scoped>\n",
       "  .table-result-container {\n",
       "    max-height: 300px;\n",
       "    overflow: auto;\n",
       "  }\n",
       "  table, th, td {\n",
       "    border: 1px solid black;\n",
       "    border-collapse: collapse;\n",
       "  }\n",
       "  th, td {\n",
       "    padding: 5px;\n",
       "  }\n",
       "  th {\n",
       "    text-align: left;\n",
       "  }\n",
       "</style><div class='table-result-container'><table class='table-result'><thead style='background-color: white'><tr><th>product_code</th><th>product_name</th><th>category</th><th>description</th><th>gender</th><th>color</th><th>size</th><th>file_path</th><th>file_size</th><th>file_modification_time</th><th>MERGEKEY</th></tr></thead><tbody><tr><td>PR0098</td><td>Product 98</td><td>pants</td><td>long skinny</td><td>female</td><td>black</td><td>32</td><td>dbfs:/FileStore/mnt/test_bucket/landing/products/2022_06_09_091705_products___Copy.csv</td><td>350</td><td>2023-11-28T20:39:02.000+0000</td><td>PR0098black32</td></tr><tr><td>PR0002</td><td>Product 2</td><td>changed</td><td>long pants</td><td>female</td><td>white</td><td>42</td><td>dbfs:/FileStore/mnt/test_bucket/landing/products/2022_06_09_091705_products___Copy.csv</td><td>350</td><td>2023-11-28T20:39:02.000+0000</td><td>PR0002white42</td></tr><tr><td>PR0004</td><td>Product 4</td><td>shoes</td><td>sport shoes</td><td>female</td><td>blue</td><td>7</td><td>dbfs:/FileStore/mnt/test_bucket/landing/products/2022_06_09_091705_products___Copy.csv</td><td>350</td><td>2023-11-28T20:39:02.000+0000</td><td>PR0004blue7</td></tr><tr><td>PR0001</td><td>Product 1</td><td>changed</td><td>running shoes</td><td>unisex</td><td>black</td><td>8</td><td>dbfs:/FileStore/mnt/test_bucket/landing/products/2022_06_09_091705_products___Copy.csv</td><td>350</td><td>2023-11-28T20:39:02.000+0000</td><td>PR0001black8</td></tr><tr><td>PR0099</td><td>Product 99</td><td>accessories</td><td>accessories young girls</td><td>female</td><td>blue</td><td>UN</td><td>dbfs:/FileStore/mnt/test_bucket/landing/products/2022_06_09_091705_products___Copy.csv</td><td>350</td><td>2023-11-28T20:39:02.000+0000</td><td>PR0099blueUN</td></tr></tbody></table></div>"
      ]
     },
     "metadata": {
      "application/vnd.databricks.v1+output": {
       "addedWidgets": {},
       "aggData": [],
       "aggError": "",
       "aggOverflow": false,
       "aggSchema": [],
       "aggSeriesLimitReached": false,
       "aggType": "",
       "arguments": {},
       "columnCustomDisplayInfos": {},
       "data": [
        [
         "PR0098",
         "Product 98",
         "pants",
         "long skinny",
         "female",
         "black",
         "32",
         "dbfs:/FileStore/mnt/test_bucket/landing/products/2022_06_09_091705_products___Copy.csv",
         350,
         "2023-11-28T20:39:02.000+0000",
         "PR0098black32"
        ],
        [
         "PR0002",
         "Product 2",
         "changed",
         "long pants",
         "female",
         "white",
         "42",
         "dbfs:/FileStore/mnt/test_bucket/landing/products/2022_06_09_091705_products___Copy.csv",
         350,
         "2023-11-28T20:39:02.000+0000",
         "PR0002white42"
        ],
        [
         "PR0004",
         "Product 4",
         "shoes",
         "sport shoes",
         "female",
         "blue",
         "7",
         "dbfs:/FileStore/mnt/test_bucket/landing/products/2022_06_09_091705_products___Copy.csv",
         350,
         "2023-11-28T20:39:02.000+0000",
         "PR0004blue7"
        ],
        [
         "PR0001",
         "Product 1",
         "changed",
         "running shoes",
         "unisex",
         "black",
         "8",
         "dbfs:/FileStore/mnt/test_bucket/landing/products/2022_06_09_091705_products___Copy.csv",
         350,
         "2023-11-28T20:39:02.000+0000",
         "PR0001black8"
        ],
        [
         "PR0099",
         "Product 99",
         "accessories",
         "accessories young girls",
         "female",
         "blue",
         "UN",
         "dbfs:/FileStore/mnt/test_bucket/landing/products/2022_06_09_091705_products___Copy.csv",
         350,
         "2023-11-28T20:39:02.000+0000",
         "PR0099blueUN"
        ]
       ],
       "datasetInfos": [],
       "dbfsResultPath": null,
       "isJsonSchema": true,
       "metadata": {},
       "overflow": false,
       "plotOptions": {
        "customPlotOptions": {},
        "displayType": "table",
        "pivotAggregation": null,
        "pivotColumns": null,
        "xColumns": null,
        "yColumns": null
       },
       "removedWidgets": [],
       "schema": [
        {
         "metadata": "{}",
         "name": "product_code",
         "type": "\"string\""
        },
        {
         "metadata": "{}",
         "name": "product_name",
         "type": "\"string\""
        },
        {
         "metadata": "{}",
         "name": "category",
         "type": "\"string\""
        },
        {
         "metadata": "{}",
         "name": "description",
         "type": "\"string\""
        },
        {
         "metadata": "{}",
         "name": "gender",
         "type": "\"string\""
        },
        {
         "metadata": "{}",
         "name": "color",
         "type": "\"string\""
        },
        {
         "metadata": "{}",
         "name": "size",
         "type": "\"string\""
        },
        {
         "metadata": "{}",
         "name": "file_path",
         "type": "\"string\""
        },
        {
         "metadata": "{}",
         "name": "file_size",
         "type": "\"long\""
        },
        {
         "metadata": "{}",
         "name": "file_modification_time",
         "type": "\"timestamp\""
        },
        {
         "metadata": "{}",
         "name": "MERGEKEY",
         "type": "\"string\""
        }
       ],
       "type": "table"
      }
     },
     "output_type": "display_data"
    }
   ],
   "source": [
    "cols=['product_code', 'color', 'size']\n",
    "#display(sourceDF.withColumn('MERGEKEY', concat(sourceDF['product_code'], sourceDF['product_name'])))\n",
    "display(sourceDF.withColumn('MERGEKEY', concat(*cols)))"
   ]
  },
  {
   "cell_type": "code",
   "execution_count": 0,
   "metadata": {
    "application/vnd.databricks.v1+cell": {
     "cellMetadata": {
      "byteLimit": 2048000,
      "rowLimit": 10000
     },
     "inputWidgets": {},
     "nuid": "337f3243-a21a-48ec-853b-51667fda446d",
     "showTitle": false,
     "title": ""
    }
   },
   "outputs": [
    {
     "output_type": "display_data",
     "data": {
      "text/html": [
       "<style scoped>\n",
       "  .table-result-container {\n",
       "    max-height: 300px;\n",
       "    overflow: auto;\n",
       "  }\n",
       "  table, th, td {\n",
       "    border: 1px solid black;\n",
       "    border-collapse: collapse;\n",
       "  }\n",
       "  th, td {\n",
       "    padding: 5px;\n",
       "  }\n",
       "  th {\n",
       "    text-align: left;\n",
       "  }\n",
       "</style><div class='table-result-container'><table class='table-result'><thead style='background-color: white'><tr><th>product_code</th><th>product_name</th><th>category</th><th>description</th><th>gender</th><th>color</th><th>size</th><th>file_path</th><th>file_size</th><th>file_modification_time</th><th>target_ProductId</th><th>target_product_code</th><th>target_product_name</th><th>target_category</th><th>target_description</th><th>target_gender</th><th>target_color</th><th>target_size</th><th>MERGEKEY</th></tr></thead><tbody><tr><td>PR0098</td><td>Product 98</td><td>pants</td><td>long skinny</td><td>female</td><td>black</td><td>32</td><td>dbfs:/FileStore/mnt/test_bucket/landing/products/2022_06_09_091705_products___Copy.csv</td><td>350</td><td>2023-11-28T20:39:02.000+0000</td><td>null</td><td>null</td><td>null</td><td>null</td><td>null</td><td>null</td><td>null</td><td>null</td><td>PR0098</td></tr><tr><td>PR0002</td><td>Product 2</td><td>changed</td><td>long pants</td><td>female</td><td>white</td><td>42</td><td>dbfs:/FileStore/mnt/test_bucket/landing/products/2022_06_09_091705_products___Copy.csv</td><td>350</td><td>2023-11-28T20:39:02.000+0000</td><td>2</td><td>PR0002</td><td>Product 2</td><td>pants</td><td>long pants</td><td>female</td><td>white</td><td>42</td><td>PR0002</td></tr><tr><td>PR0001</td><td>Product 1</td><td>changed</td><td>running shoes</td><td>unisex</td><td>black</td><td>8</td><td>dbfs:/FileStore/mnt/test_bucket/landing/products/2022_06_09_091705_products___Copy.csv</td><td>350</td><td>2023-11-28T20:39:02.000+0000</td><td>4</td><td>PR0001</td><td>Product 1</td><td>shoes</td><td>running shoes</td><td>unisex</td><td>black</td><td>8</td><td>PR0001</td></tr><tr><td>PR0099</td><td>Product 99</td><td>accessories</td><td>accessories young girls</td><td>female</td><td>blue</td><td>UN</td><td>dbfs:/FileStore/mnt/test_bucket/landing/products/2022_06_09_091705_products___Copy.csv</td><td>350</td><td>2023-11-28T20:39:02.000+0000</td><td>null</td><td>null</td><td>null</td><td>null</td><td>null</td><td>null</td><td>null</td><td>null</td><td>PR0099</td></tr></tbody></table></div>"
      ]
     },
     "metadata": {
      "application/vnd.databricks.v1+output": {
       "addedWidgets": {},
       "aggData": [],
       "aggError": "",
       "aggOverflow": false,
       "aggSchema": [],
       "aggSeriesLimitReached": false,
       "aggType": "",
       "arguments": {},
       "columnCustomDisplayInfos": {},
       "data": [
        [
         "PR0098",
         "Product 98",
         "pants",
         "long skinny",
         "female",
         "black",
         "32",
         "dbfs:/FileStore/mnt/test_bucket/landing/products/2022_06_09_091705_products___Copy.csv",
         350,
         "2023-11-28T20:39:02.000+0000",
         null,
         null,
         null,
         null,
         null,
         null,
         null,
         null,
         "PR0098"
        ],
        [
         "PR0002",
         "Product 2",
         "changed",
         "long pants",
         "female",
         "white",
         "42",
         "dbfs:/FileStore/mnt/test_bucket/landing/products/2022_06_09_091705_products___Copy.csv",
         350,
         "2023-11-28T20:39:02.000+0000",
         2,
         "PR0002",
         "Product 2",
         "pants",
         "long pants",
         "female",
         "white",
         "42",
         "PR0002"
        ],
        [
         "PR0001",
         "Product 1",
         "changed",
         "running shoes",
         "unisex",
         "black",
         "8",
         "dbfs:/FileStore/mnt/test_bucket/landing/products/2022_06_09_091705_products___Copy.csv",
         350,
         "2023-11-28T20:39:02.000+0000",
         4,
         "PR0001",
         "Product 1",
         "shoes",
         "running shoes",
         "unisex",
         "black",
         "8",
         "PR0001"
        ],
        [
         "PR0099",
         "Product 99",
         "accessories",
         "accessories young girls",
         "female",
         "blue",
         "UN",
         "dbfs:/FileStore/mnt/test_bucket/landing/products/2022_06_09_091705_products___Copy.csv",
         350,
         "2023-11-28T20:39:02.000+0000",
         null,
         null,
         null,
         null,
         null,
         null,
         null,
         null,
         "PR0099"
        ]
       ],
       "datasetInfos": [],
       "dbfsResultPath": null,
       "isJsonSchema": true,
       "metadata": {},
       "overflow": false,
       "plotOptions": {
        "customPlotOptions": {},
        "displayType": "table",
        "pivotAggregation": null,
        "pivotColumns": null,
        "xColumns": null,
        "yColumns": null
       },
       "removedWidgets": [],
       "schema": [
        {
         "metadata": "{}",
         "name": "product_code",
         "type": "\"string\""
        },
        {
         "metadata": "{}",
         "name": "product_name",
         "type": "\"string\""
        },
        {
         "metadata": "{}",
         "name": "category",
         "type": "\"string\""
        },
        {
         "metadata": "{}",
         "name": "description",
         "type": "\"string\""
        },
        {
         "metadata": "{}",
         "name": "gender",
         "type": "\"string\""
        },
        {
         "metadata": "{}",
         "name": "color",
         "type": "\"string\""
        },
        {
         "metadata": "{}",
         "name": "size",
         "type": "\"string\""
        },
        {
         "metadata": "{}",
         "name": "file_path",
         "type": "\"string\""
        },
        {
         "metadata": "{}",
         "name": "file_size",
         "type": "\"long\""
        },
        {
         "metadata": "{}",
         "name": "file_modification_time",
         "type": "\"timestamp\""
        },
        {
         "metadata": "{}",
         "name": "target_ProductId",
         "type": "\"long\""
        },
        {
         "metadata": "{}",
         "name": "target_product_code",
         "type": "\"string\""
        },
        {
         "metadata": "{}",
         "name": "target_product_name",
         "type": "\"string\""
        },
        {
         "metadata": "{}",
         "name": "target_category",
         "type": "\"string\""
        },
        {
         "metadata": "{}",
         "name": "target_description",
         "type": "\"string\""
        },
        {
         "metadata": "{}",
         "name": "target_gender",
         "type": "\"string\""
        },
        {
         "metadata": "{}",
         "name": "target_color",
         "type": "\"string\""
        },
        {
         "metadata": "{}",
         "name": "target_size",
         "type": "\"string\""
        },
        {
         "metadata": "{}",
         "name": "MERGEKEY",
         "type": "\"string\""
        }
       ],
       "type": "table"
      }
     },
     "output_type": "display_data"
    }
   ],
   "source": [
    "#mergeDF=filterDF.withColumn('MERGEKEY', concat(filterDF.botany_order_no, filterDF.line_no))\n",
    "mergeDF=filterDF.withColumn('MERGEKEY', concat(*join_columns))\n",
    "\n",
    "display(mergeDF)"
   ]
  },
  {
   "cell_type": "markdown",
   "metadata": {
    "application/vnd.databricks.v1+cell": {
     "cellMetadata": {
      "byteLimit": 2048000,
      "rowLimit": 10000
     },
     "inputWidgets": {},
     "nuid": "083ae9a4-a228-4efb-b150-92a814414477",
     "showTitle": false,
     "title": ""
    }
   },
   "source": [
    "##### Step 4 - create null merge key for matching records"
   ]
  },
  {
   "cell_type": "code",
   "execution_count": 0,
   "metadata": {
    "application/vnd.databricks.v1+cell": {
     "cellMetadata": {
      "byteLimit": 2048000,
      "rowLimit": 10000
     },
     "inputWidgets": {},
     "nuid": "963bdff0-8f3e-45bd-b5fa-5d3a28e6d5e1",
     "showTitle": false,
     "title": ""
    }
   },
   "outputs": [
    {
     "output_type": "display_data",
     "data": {
      "text/html": [
       "<style scoped>\n",
       "  .table-result-container {\n",
       "    max-height: 300px;\n",
       "    overflow: auto;\n",
       "  }\n",
       "  table, th, td {\n",
       "    border: 1px solid black;\n",
       "    border-collapse: collapse;\n",
       "  }\n",
       "  th, td {\n",
       "    padding: 5px;\n",
       "  }\n",
       "  th {\n",
       "    text-align: left;\n",
       "  }\n",
       "</style><div class='table-result-container'><table class='table-result'><thead style='background-color: white'><tr><th>product_code</th><th>product_name</th><th>category</th><th>description</th><th>gender</th><th>color</th><th>size</th><th>file_path</th><th>file_size</th><th>file_modification_time</th><th>target_ProductId</th><th>target_product_code</th><th>target_product_name</th><th>target_category</th><th>target_description</th><th>target_gender</th><th>target_color</th><th>target_size</th><th>MERGEKEY</th></tr></thead><tbody><tr><td>PR0002</td><td>Product 2</td><td>changed</td><td>long pants</td><td>female</td><td>white</td><td>42</td><td>dbfs:/FileStore/mnt/test_bucket/landing/products/2022_06_09_091705_products___Copy.csv</td><td>350</td><td>2023-11-28T20:39:02.000+0000</td><td>2</td><td>PR0002</td><td>Product 2</td><td>pants</td><td>long pants</td><td>female</td><td>white</td><td>42</td><td>null</td></tr><tr><td>PR0001</td><td>Product 1</td><td>changed</td><td>running shoes</td><td>unisex</td><td>black</td><td>8</td><td>dbfs:/FileStore/mnt/test_bucket/landing/products/2022_06_09_091705_products___Copy.csv</td><td>350</td><td>2023-11-28T20:39:02.000+0000</td><td>4</td><td>PR0001</td><td>Product 1</td><td>shoes</td><td>running shoes</td><td>unisex</td><td>black</td><td>8</td><td>null</td></tr></tbody></table></div>"
      ]
     },
     "metadata": {
      "application/vnd.databricks.v1+output": {
       "addedWidgets": {},
       "aggData": [],
       "aggError": "",
       "aggOverflow": false,
       "aggSchema": [],
       "aggSeriesLimitReached": false,
       "aggType": "",
       "arguments": {},
       "columnCustomDisplayInfos": {},
       "data": [
        [
         "PR0002",
         "Product 2",
         "changed",
         "long pants",
         "female",
         "white",
         "42",
         "dbfs:/FileStore/mnt/test_bucket/landing/products/2022_06_09_091705_products___Copy.csv",
         350,
         "2023-11-28T20:39:02.000+0000",
         2,
         "PR0002",
         "Product 2",
         "pants",
         "long pants",
         "female",
         "white",
         "42",
         null
        ],
        [
         "PR0001",
         "Product 1",
         "changed",
         "running shoes",
         "unisex",
         "black",
         "8",
         "dbfs:/FileStore/mnt/test_bucket/landing/products/2022_06_09_091705_products___Copy.csv",
         350,
         "2023-11-28T20:39:02.000+0000",
         4,
         "PR0001",
         "Product 1",
         "shoes",
         "running shoes",
         "unisex",
         "black",
         "8",
         null
        ]
       ],
       "datasetInfos": [],
       "dbfsResultPath": null,
       "isJsonSchema": true,
       "metadata": {},
       "overflow": false,
       "plotOptions": {
        "customPlotOptions": {},
        "displayType": "table",
        "pivotAggregation": null,
        "pivotColumns": null,
        "xColumns": null,
        "yColumns": null
       },
       "removedWidgets": [],
       "schema": [
        {
         "metadata": "{}",
         "name": "product_code",
         "type": "\"string\""
        },
        {
         "metadata": "{}",
         "name": "product_name",
         "type": "\"string\""
        },
        {
         "metadata": "{}",
         "name": "category",
         "type": "\"string\""
        },
        {
         "metadata": "{}",
         "name": "description",
         "type": "\"string\""
        },
        {
         "metadata": "{}",
         "name": "gender",
         "type": "\"string\""
        },
        {
         "metadata": "{}",
         "name": "color",
         "type": "\"string\""
        },
        {
         "metadata": "{}",
         "name": "size",
         "type": "\"string\""
        },
        {
         "metadata": "{}",
         "name": "file_path",
         "type": "\"string\""
        },
        {
         "metadata": "{}",
         "name": "file_size",
         "type": "\"long\""
        },
        {
         "metadata": "{}",
         "name": "file_modification_time",
         "type": "\"timestamp\""
        },
        {
         "metadata": "{}",
         "name": "target_ProductId",
         "type": "\"long\""
        },
        {
         "metadata": "{}",
         "name": "target_product_code",
         "type": "\"string\""
        },
        {
         "metadata": "{}",
         "name": "target_product_name",
         "type": "\"string\""
        },
        {
         "metadata": "{}",
         "name": "target_category",
         "type": "\"string\""
        },
        {
         "metadata": "{}",
         "name": "target_description",
         "type": "\"string\""
        },
        {
         "metadata": "{}",
         "name": "target_gender",
         "type": "\"string\""
        },
        {
         "metadata": "{}",
         "name": "target_color",
         "type": "\"string\""
        },
        {
         "metadata": "{}",
         "name": "target_size",
         "type": "\"string\""
        },
        {
         "metadata": "{}",
         "name": "MERGEKEY",
         "type": "\"void\""
        }
       ],
       "type": "table"
      }
     },
     "output_type": "display_data"
    }
   ],
   "source": [
    "dummyDF=filterDF.filter('target_ProductId is not null').withColumn('MERGEKEY', lit(None))\n",
    "\n",
    "display(dummyDF)"
   ]
  },
  {
   "cell_type": "markdown",
   "metadata": {
    "application/vnd.databricks.v1+cell": {
     "cellMetadata": {
      "byteLimit": 2048000,
      "rowLimit": 10000
     },
     "inputWidgets": {},
     "nuid": "08c452f6-8010-4792-b0e9-67644db8e550",
     "showTitle": false,
     "title": ""
    }
   },
   "source": [
    "##### Step 5 - combine step 3 and 4"
   ]
  },
  {
   "cell_type": "code",
   "execution_count": 0,
   "metadata": {
    "application/vnd.databricks.v1+cell": {
     "cellMetadata": {
      "byteLimit": 2048000,
      "rowLimit": 10000
     },
     "inputWidgets": {},
     "nuid": "4b7cccb3-49d0-4df3-ac2a-cfe7cf0ffa39",
     "showTitle": false,
     "title": ""
    }
   },
   "outputs": [
    {
     "output_type": "display_data",
     "data": {
      "text/html": [
       "<style scoped>\n",
       "  .table-result-container {\n",
       "    max-height: 300px;\n",
       "    overflow: auto;\n",
       "  }\n",
       "  table, th, td {\n",
       "    border: 1px solid black;\n",
       "    border-collapse: collapse;\n",
       "  }\n",
       "  th, td {\n",
       "    padding: 5px;\n",
       "  }\n",
       "  th {\n",
       "    text-align: left;\n",
       "  }\n",
       "</style><div class='table-result-container'><table class='table-result'><thead style='background-color: white'><tr><th>product_code</th><th>product_name</th><th>category</th><th>description</th><th>gender</th><th>color</th><th>size</th><th>file_path</th><th>file_size</th><th>file_modification_time</th><th>target_ProductId</th><th>target_product_code</th><th>target_product_name</th><th>target_category</th><th>target_description</th><th>target_gender</th><th>target_color</th><th>target_size</th><th>MERGEKEY</th></tr></thead><tbody><tr><td>PR0098</td><td>Product 98</td><td>pants</td><td>long skinny</td><td>female</td><td>black</td><td>32</td><td>dbfs:/FileStore/mnt/test_bucket/landing/products/2022_06_09_091705_products___Copy.csv</td><td>350</td><td>2023-11-28T20:39:02.000+0000</td><td>null</td><td>null</td><td>null</td><td>null</td><td>null</td><td>null</td><td>null</td><td>null</td><td>PR0098</td></tr><tr><td>PR0002</td><td>Product 2</td><td>changed</td><td>long pants</td><td>female</td><td>white</td><td>42</td><td>dbfs:/FileStore/mnt/test_bucket/landing/products/2022_06_09_091705_products___Copy.csv</td><td>350</td><td>2023-11-28T20:39:02.000+0000</td><td>2</td><td>PR0002</td><td>Product 2</td><td>pants</td><td>long pants</td><td>female</td><td>white</td><td>42</td><td>PR0002</td></tr><tr><td>PR0001</td><td>Product 1</td><td>changed</td><td>running shoes</td><td>unisex</td><td>black</td><td>8</td><td>dbfs:/FileStore/mnt/test_bucket/landing/products/2022_06_09_091705_products___Copy.csv</td><td>350</td><td>2023-11-28T20:39:02.000+0000</td><td>4</td><td>PR0001</td><td>Product 1</td><td>shoes</td><td>running shoes</td><td>unisex</td><td>black</td><td>8</td><td>PR0001</td></tr><tr><td>PR0099</td><td>Product 99</td><td>accessories</td><td>accessories young girls</td><td>female</td><td>blue</td><td>UN</td><td>dbfs:/FileStore/mnt/test_bucket/landing/products/2022_06_09_091705_products___Copy.csv</td><td>350</td><td>2023-11-28T20:39:02.000+0000</td><td>null</td><td>null</td><td>null</td><td>null</td><td>null</td><td>null</td><td>null</td><td>null</td><td>PR0099</td></tr><tr><td>PR0002</td><td>Product 2</td><td>changed</td><td>long pants</td><td>female</td><td>white</td><td>42</td><td>dbfs:/FileStore/mnt/test_bucket/landing/products/2022_06_09_091705_products___Copy.csv</td><td>350</td><td>2023-11-28T20:39:02.000+0000</td><td>2</td><td>PR0002</td><td>Product 2</td><td>pants</td><td>long pants</td><td>female</td><td>white</td><td>42</td><td>null</td></tr><tr><td>PR0001</td><td>Product 1</td><td>changed</td><td>running shoes</td><td>unisex</td><td>black</td><td>8</td><td>dbfs:/FileStore/mnt/test_bucket/landing/products/2022_06_09_091705_products___Copy.csv</td><td>350</td><td>2023-11-28T20:39:02.000+0000</td><td>4</td><td>PR0001</td><td>Product 1</td><td>shoes</td><td>running shoes</td><td>unisex</td><td>black</td><td>8</td><td>null</td></tr></tbody></table></div>"
      ]
     },
     "metadata": {
      "application/vnd.databricks.v1+output": {
       "addedWidgets": {},
       "aggData": [],
       "aggError": "",
       "aggOverflow": false,
       "aggSchema": [],
       "aggSeriesLimitReached": false,
       "aggType": "",
       "arguments": {},
       "columnCustomDisplayInfos": {},
       "data": [
        [
         "PR0098",
         "Product 98",
         "pants",
         "long skinny",
         "female",
         "black",
         "32",
         "dbfs:/FileStore/mnt/test_bucket/landing/products/2022_06_09_091705_products___Copy.csv",
         350,
         "2023-11-28T20:39:02.000+0000",
         null,
         null,
         null,
         null,
         null,
         null,
         null,
         null,
         "PR0098"
        ],
        [
         "PR0002",
         "Product 2",
         "changed",
         "long pants",
         "female",
         "white",
         "42",
         "dbfs:/FileStore/mnt/test_bucket/landing/products/2022_06_09_091705_products___Copy.csv",
         350,
         "2023-11-28T20:39:02.000+0000",
         2,
         "PR0002",
         "Product 2",
         "pants",
         "long pants",
         "female",
         "white",
         "42",
         "PR0002"
        ],
        [
         "PR0001",
         "Product 1",
         "changed",
         "running shoes",
         "unisex",
         "black",
         "8",
         "dbfs:/FileStore/mnt/test_bucket/landing/products/2022_06_09_091705_products___Copy.csv",
         350,
         "2023-11-28T20:39:02.000+0000",
         4,
         "PR0001",
         "Product 1",
         "shoes",
         "running shoes",
         "unisex",
         "black",
         "8",
         "PR0001"
        ],
        [
         "PR0099",
         "Product 99",
         "accessories",
         "accessories young girls",
         "female",
         "blue",
         "UN",
         "dbfs:/FileStore/mnt/test_bucket/landing/products/2022_06_09_091705_products___Copy.csv",
         350,
         "2023-11-28T20:39:02.000+0000",
         null,
         null,
         null,
         null,
         null,
         null,
         null,
         null,
         "PR0099"
        ],
        [
         "PR0002",
         "Product 2",
         "changed",
         "long pants",
         "female",
         "white",
         "42",
         "dbfs:/FileStore/mnt/test_bucket/landing/products/2022_06_09_091705_products___Copy.csv",
         350,
         "2023-11-28T20:39:02.000+0000",
         2,
         "PR0002",
         "Product 2",
         "pants",
         "long pants",
         "female",
         "white",
         "42",
         null
        ],
        [
         "PR0001",
         "Product 1",
         "changed",
         "running shoes",
         "unisex",
         "black",
         "8",
         "dbfs:/FileStore/mnt/test_bucket/landing/products/2022_06_09_091705_products___Copy.csv",
         350,
         "2023-11-28T20:39:02.000+0000",
         4,
         "PR0001",
         "Product 1",
         "shoes",
         "running shoes",
         "unisex",
         "black",
         "8",
         null
        ]
       ],
       "datasetInfos": [],
       "dbfsResultPath": null,
       "isJsonSchema": true,
       "metadata": {},
       "overflow": false,
       "plotOptions": {
        "customPlotOptions": {},
        "displayType": "table",
        "pivotAggregation": null,
        "pivotColumns": null,
        "xColumns": null,
        "yColumns": null
       },
       "removedWidgets": [],
       "schema": [
        {
         "metadata": "{}",
         "name": "product_code",
         "type": "\"string\""
        },
        {
         "metadata": "{}",
         "name": "product_name",
         "type": "\"string\""
        },
        {
         "metadata": "{}",
         "name": "category",
         "type": "\"string\""
        },
        {
         "metadata": "{}",
         "name": "description",
         "type": "\"string\""
        },
        {
         "metadata": "{}",
         "name": "gender",
         "type": "\"string\""
        },
        {
         "metadata": "{}",
         "name": "color",
         "type": "\"string\""
        },
        {
         "metadata": "{}",
         "name": "size",
         "type": "\"string\""
        },
        {
         "metadata": "{}",
         "name": "file_path",
         "type": "\"string\""
        },
        {
         "metadata": "{}",
         "name": "file_size",
         "type": "\"long\""
        },
        {
         "metadata": "{}",
         "name": "file_modification_time",
         "type": "\"timestamp\""
        },
        {
         "metadata": "{}",
         "name": "target_ProductId",
         "type": "\"long\""
        },
        {
         "metadata": "{}",
         "name": "target_product_code",
         "type": "\"string\""
        },
        {
         "metadata": "{}",
         "name": "target_product_name",
         "type": "\"string\""
        },
        {
         "metadata": "{}",
         "name": "target_category",
         "type": "\"string\""
        },
        {
         "metadata": "{}",
         "name": "target_description",
         "type": "\"string\""
        },
        {
         "metadata": "{}",
         "name": "target_gender",
         "type": "\"string\""
        },
        {
         "metadata": "{}",
         "name": "target_color",
         "type": "\"string\""
        },
        {
         "metadata": "{}",
         "name": "target_size",
         "type": "\"string\""
        },
        {
         "metadata": "{}",
         "name": "MERGEKEY",
         "type": "\"string\""
        }
       ],
       "type": "table"
      }
     },
     "output_type": "display_data"
    }
   ],
   "source": [
    "scdDF=mergeDF.union(dummyDF)\n",
    "scdDF.createOrReplaceTempView('scdDF')\n",
    "display(scdDF)"
   ]
  },
  {
   "cell_type": "markdown",
   "metadata": {
    "application/vnd.databricks.v1+cell": {
     "cellMetadata": {
      "byteLimit": 2048000,
      "rowLimit": 10000
     },
     "inputWidgets": {},
     "nuid": "d74bdb4f-043d-4b75-b7f5-54f7f5e9bace",
     "showTitle": false,
     "title": ""
    }
   },
   "source": [
    "##### Step 6 - apply merge statement"
   ]
  },
  {
   "cell_type": "code",
   "execution_count": 0,
   "metadata": {
    "application/vnd.databricks.v1+cell": {
     "cellMetadata": {
      "byteLimit": 2048000,
      "implicitDf": true,
      "rowLimit": 10000
     },
     "inputWidgets": {},
     "nuid": "506e08a7-6e07-4369-a8c1-895b18763150",
     "showTitle": false,
     "title": ""
    }
   },
   "outputs": [],
   "source": [
    "%sql\n",
    "drop table if exists test_merge2;\n",
    "create table test_merge2 as\n",
    "select * from silver.products_silver;\n",
    "select * from test_merge2;"
   ]
  },
  {
   "cell_type": "code",
   "execution_count": 0,
   "metadata": {
    "application/vnd.databricks.v1+cell": {
     "cellMetadata": {
      "byteLimit": 2048000,
      "implicitDf": true,
      "rowLimit": 10000
     },
     "inputWidgets": {},
     "nuid": "9dc3e9de-f003-4178-952f-7d3f9406fab2",
     "showTitle": false,
     "title": ""
    }
   },
   "outputs": [],
   "source": [
    "%sql\n",
    "select * from test_merge2;"
   ]
  },
  {
   "cell_type": "code",
   "execution_count": 0,
   "metadata": {
    "application/vnd.databricks.v1+cell": {
     "cellMetadata": {
      "byteLimit": 2048000,
      "rowLimit": 10000
     },
     "inputWidgets": {},
     "nuid": "72ac41f7-e68b-47be-90ad-f36a6f56f9d1",
     "showTitle": false,
     "title": ""
    }
   },
   "outputs": [],
   "source": [
    "text=''\n",
    "for c in all_columns:\n",
    "    text+=f'source.{c}, '\n",
    "text"
   ]
  },
  {
   "cell_type": "code",
   "execution_count": 0,
   "metadata": {
    "application/vnd.databricks.v1+cell": {
     "cellMetadata": {
      "byteLimit": 2048000,
      "implicitDf": true,
      "rowLimit": 10000
     },
     "inputWidgets": {},
     "nuid": "cd22b220-d6a8-47a7-8309-0d573fd2e321",
     "showTitle": false,
     "title": ""
    }
   },
   "outputs": [
    {
     "output_type": "display_data",
     "data": {
      "text/html": [
       "<style scoped>\n",
       "  .table-result-container {\n",
       "    max-height: 300px;\n",
       "    overflow: auto;\n",
       "  }\n",
       "  table, th, td {\n",
       "    border: 1px solid black;\n",
       "    border-collapse: collapse;\n",
       "  }\n",
       "  th, td {\n",
       "    padding: 5px;\n",
       "  }\n",
       "  th {\n",
       "    text-align: left;\n",
       "  }\n",
       "</style><div class='table-result-container'><table class='table-result'><thead style='background-color: white'><tr><th>num_affected_rows</th><th>num_updated_rows</th><th>num_deleted_rows</th><th>num_inserted_rows</th></tr></thead><tbody><tr><td>6</td><td>2</td><td>0</td><td>4</td></tr></tbody></table></div>"
      ]
     },
     "metadata": {
      "application/vnd.databricks.v1+output": {
       "addedWidgets": {},
       "aggData": [],
       "aggError": "",
       "aggOverflow": false,
       "aggSchema": [],
       "aggSeriesLimitReached": false,
       "aggType": "",
       "arguments": {},
       "columnCustomDisplayInfos": {},
       "data": [
        [
         6,
         2,
         0,
         4
        ]
       ],
       "datasetInfos": [],
       "dbfsResultPath": null,
       "isJsonSchema": true,
       "metadata": {},
       "overflow": false,
       "plotOptions": {
        "customPlotOptions": {},
        "displayType": "table",
        "pivotAggregation": null,
        "pivotColumns": null,
        "xColumns": null,
        "yColumns": null
       },
       "removedWidgets": [],
       "schema": [
        {
         "metadata": "{}",
         "name": "num_affected_rows",
         "type": "\"long\""
        },
        {
         "metadata": "{}",
         "name": "num_updated_rows",
         "type": "\"long\""
        },
        {
         "metadata": "{}",
         "name": "num_deleted_rows",
         "type": "\"long\""
        },
        {
         "metadata": "{}",
         "name": "num_inserted_rows",
         "type": "\"long\""
        }
       ],
       "type": "table"
      }
     },
     "output_type": "display_data"
    }
   ],
   "source": [
    "%sql\n",
    "merge into silver.products_silver as target\n",
    "--merge into test_merge2 as target\n",
    "\n",
    "  using scdDF as source\n",
    "  on  target.product_code = source.MERGEKEY and target.active_status=\"Y\"\n",
    "\n",
    "  when matched then update set\n",
    "    active_status='N',\n",
    "    valid_to=date_sub(CAST(current_date() as DATE), 1)\n",
    "\n",
    "  when not matched then insert (product_code, product_name, category, description, gender, color, size, file_path, file_size, file_modification_time, active_status, valid_from, valid_to)\n",
    "    values(\n",
    "      source.product_code, \n",
    "      source.product_name, \n",
    "      source.category, \n",
    "      source.description, \n",
    "      source.gender, \n",
    "      source.color, \n",
    "      source.size, \n",
    "      source.file_path, \n",
    "      source.file_size, \n",
    "      source.file_modification_time, \n",
    "      'Y', \n",
    "      current_date(),\n",
    "      '9999-12-31')\n"
   ]
  },
  {
   "cell_type": "code",
   "execution_count": 0,
   "metadata": {
    "application/vnd.databricks.v1+cell": {
     "cellMetadata": {
      "byteLimit": 2048000,
      "implicitDf": true,
      "rowLimit": 10000
     },
     "inputWidgets": {},
     "nuid": "073f60e0-dc80-420d-b6e2-3c70051e6c28",
     "showTitle": false,
     "title": ""
    }
   },
   "outputs": [
    {
     "output_type": "display_data",
     "data": {
      "text/html": [
       "<style scoped>\n",
       "  .table-result-container {\n",
       "    max-height: 300px;\n",
       "    overflow: auto;\n",
       "  }\n",
       "  table, th, td {\n",
       "    border: 1px solid black;\n",
       "    border-collapse: collapse;\n",
       "  }\n",
       "  th, td {\n",
       "    padding: 5px;\n",
       "  }\n",
       "  th {\n",
       "    text-align: left;\n",
       "  }\n",
       "</style><div class='table-result-container'><table class='table-result'><thead style='background-color: white'><tr><th>ProductId</th><th>product_code</th><th>product_name</th><th>category</th><th>description</th><th>gender</th><th>color</th><th>size</th><th>file_path</th><th>file_size</th><th>file_modification_time</th><th>active_status</th><th>valid_from</th><th>valid_to</th></tr></thead><tbody><tr><td>1</td><td>PR0005</td><td>Product 5</td><td>pants</td><td>long skinny</td><td>female</td><td>black</td><td>32</td><td>dbfs:/FileStore/mnt/test_bucket/landing/products/2022_06_09_091705_products.csv</td><td>398</td><td>2023-11-28T20:37:57.000+0000</td><td>Y</td><td>2023-01-01</td><td>9999-12-31</td></tr><tr><td>2</td><td>PR0002</td><td>Product 2</td><td>pants</td><td>long pants</td><td>female</td><td>white</td><td>42</td><td>dbfs:/FileStore/mnt/test_bucket/landing/products/2022_06_09_091705_products.csv</td><td>398</td><td>2023-11-28T20:37:57.000+0000</td><td>N</td><td>2023-01-01</td><td>2023-11-27</td></tr><tr><td>3</td><td>PR0004</td><td>Product 4</td><td>shoes</td><td>sport shoes</td><td>female</td><td>blue</td><td>7</td><td>dbfs:/FileStore/mnt/test_bucket/landing/products/2022_06_09_091705_products.csv</td><td>398</td><td>2023-11-28T20:37:57.000+0000</td><td>Y</td><td>2023-01-01</td><td>9999-12-31</td></tr><tr><td>4</td><td>PR0001</td><td>Product 1</td><td>shoes</td><td>running shoes</td><td>unisex</td><td>black</td><td>8</td><td>dbfs:/FileStore/mnt/test_bucket/landing/products/2022_06_09_091705_products.csv</td><td>398</td><td>2023-11-28T20:37:57.000+0000</td><td>N</td><td>2023-01-01</td><td>2023-11-27</td></tr><tr><td>5</td><td>PR0003</td><td>Product 3</td><td>underwear</td><td>underwear male</td><td>male</td><td>red</td><td>M</td><td>dbfs:/FileStore/mnt/test_bucket/landing/products/2022_06_09_091705_products.csv</td><td>398</td><td>2023-11-28T20:37:57.000+0000</td><td>Y</td><td>2023-01-01</td><td>9999-12-31</td></tr><tr><td>6</td><td>PR0006</td><td>Product 6</td><td>accessories</td><td>accessories young girls</td><td>female</td><td>blue</td><td>UN</td><td>dbfs:/FileStore/mnt/test_bucket/landing/products/2022_06_09_091705_products.csv</td><td>398</td><td>2023-11-28T20:37:57.000+0000</td><td>Y</td><td>2023-01-01</td><td>9999-12-31</td></tr><tr><td>7</td><td>PR0098</td><td>Product 98</td><td>pants</td><td>long skinny</td><td>female</td><td>black</td><td>32</td><td>dbfs:/FileStore/mnt/test_bucket/landing/products/2022_06_09_091705_products___Copy.csv</td><td>350</td><td>2023-11-28T20:39:02.000+0000</td><td>Y</td><td>2023-11-28</td><td>9999-12-31</td></tr><tr><td>8</td><td>PR0002</td><td>Product 2</td><td>changed</td><td>long pants</td><td>female</td><td>white</td><td>42</td><td>dbfs:/FileStore/mnt/test_bucket/landing/products/2022_06_09_091705_products___Copy.csv</td><td>350</td><td>2023-11-28T20:39:02.000+0000</td><td>Y</td><td>2023-11-28</td><td>9999-12-31</td></tr><tr><td>9</td><td>PR0099</td><td>Product 99</td><td>accessories</td><td>accessories young girls</td><td>female</td><td>blue</td><td>UN</td><td>dbfs:/FileStore/mnt/test_bucket/landing/products/2022_06_09_091705_products___Copy.csv</td><td>350</td><td>2023-11-28T20:39:02.000+0000</td><td>Y</td><td>2023-11-28</td><td>9999-12-31</td></tr><tr><td>10</td><td>PR0001</td><td>Product 1</td><td>changed</td><td>running shoes</td><td>unisex</td><td>black</td><td>8</td><td>dbfs:/FileStore/mnt/test_bucket/landing/products/2022_06_09_091705_products___Copy.csv</td><td>350</td><td>2023-11-28T20:39:02.000+0000</td><td>Y</td><td>2023-11-28</td><td>9999-12-31</td></tr></tbody></table></div>"
      ]
     },
     "metadata": {
      "application/vnd.databricks.v1+output": {
       "addedWidgets": {},
       "aggData": [],
       "aggError": "",
       "aggOverflow": false,
       "aggSchema": [],
       "aggSeriesLimitReached": false,
       "aggType": "",
       "arguments": {},
       "columnCustomDisplayInfos": {},
       "data": [
        [
         1,
         "PR0005",
         "Product 5",
         "pants",
         "long skinny",
         "female",
         "black",
         "32",
         "dbfs:/FileStore/mnt/test_bucket/landing/products/2022_06_09_091705_products.csv",
         398,
         "2023-11-28T20:37:57.000+0000",
         "Y",
         "2023-01-01",
         "9999-12-31"
        ],
        [
         2,
         "PR0002",
         "Product 2",
         "pants",
         "long pants",
         "female",
         "white",
         "42",
         "dbfs:/FileStore/mnt/test_bucket/landing/products/2022_06_09_091705_products.csv",
         398,
         "2023-11-28T20:37:57.000+0000",
         "N",
         "2023-01-01",
         "2023-11-27"
        ],
        [
         3,
         "PR0004",
         "Product 4",
         "shoes",
         "sport shoes",
         "female",
         "blue",
         "7",
         "dbfs:/FileStore/mnt/test_bucket/landing/products/2022_06_09_091705_products.csv",
         398,
         "2023-11-28T20:37:57.000+0000",
         "Y",
         "2023-01-01",
         "9999-12-31"
        ],
        [
         4,
         "PR0001",
         "Product 1",
         "shoes",
         "running shoes",
         "unisex",
         "black",
         "8",
         "dbfs:/FileStore/mnt/test_bucket/landing/products/2022_06_09_091705_products.csv",
         398,
         "2023-11-28T20:37:57.000+0000",
         "N",
         "2023-01-01",
         "2023-11-27"
        ],
        [
         5,
         "PR0003",
         "Product 3",
         "underwear",
         "underwear male",
         "male",
         "red",
         "M",
         "dbfs:/FileStore/mnt/test_bucket/landing/products/2022_06_09_091705_products.csv",
         398,
         "2023-11-28T20:37:57.000+0000",
         "Y",
         "2023-01-01",
         "9999-12-31"
        ],
        [
         6,
         "PR0006",
         "Product 6",
         "accessories",
         "accessories young girls",
         "female",
         "blue",
         "UN",
         "dbfs:/FileStore/mnt/test_bucket/landing/products/2022_06_09_091705_products.csv",
         398,
         "2023-11-28T20:37:57.000+0000",
         "Y",
         "2023-01-01",
         "9999-12-31"
        ],
        [
         7,
         "PR0098",
         "Product 98",
         "pants",
         "long skinny",
         "female",
         "black",
         "32",
         "dbfs:/FileStore/mnt/test_bucket/landing/products/2022_06_09_091705_products___Copy.csv",
         350,
         "2023-11-28T20:39:02.000+0000",
         "Y",
         "2023-11-28",
         "9999-12-31"
        ],
        [
         8,
         "PR0002",
         "Product 2",
         "changed",
         "long pants",
         "female",
         "white",
         "42",
         "dbfs:/FileStore/mnt/test_bucket/landing/products/2022_06_09_091705_products___Copy.csv",
         350,
         "2023-11-28T20:39:02.000+0000",
         "Y",
         "2023-11-28",
         "9999-12-31"
        ],
        [
         9,
         "PR0099",
         "Product 99",
         "accessories",
         "accessories young girls",
         "female",
         "blue",
         "UN",
         "dbfs:/FileStore/mnt/test_bucket/landing/products/2022_06_09_091705_products___Copy.csv",
         350,
         "2023-11-28T20:39:02.000+0000",
         "Y",
         "2023-11-28",
         "9999-12-31"
        ],
        [
         10,
         "PR0001",
         "Product 1",
         "changed",
         "running shoes",
         "unisex",
         "black",
         "8",
         "dbfs:/FileStore/mnt/test_bucket/landing/products/2022_06_09_091705_products___Copy.csv",
         350,
         "2023-11-28T20:39:02.000+0000",
         "Y",
         "2023-11-28",
         "9999-12-31"
        ]
       ],
       "datasetInfos": [],
       "dbfsResultPath": null,
       "isJsonSchema": true,
       "metadata": {},
       "overflow": false,
       "plotOptions": {
        "customPlotOptions": {},
        "displayType": "table",
        "pivotAggregation": null,
        "pivotColumns": null,
        "xColumns": null,
        "yColumns": null
       },
       "removedWidgets": [],
       "schema": [
        {
         "metadata": "{}",
         "name": "ProductId",
         "type": "\"long\""
        },
        {
         "metadata": "{}",
         "name": "product_code",
         "type": "\"string\""
        },
        {
         "metadata": "{}",
         "name": "product_name",
         "type": "\"string\""
        },
        {
         "metadata": "{}",
         "name": "category",
         "type": "\"string\""
        },
        {
         "metadata": "{}",
         "name": "description",
         "type": "\"string\""
        },
        {
         "metadata": "{}",
         "name": "gender",
         "type": "\"string\""
        },
        {
         "metadata": "{}",
         "name": "color",
         "type": "\"string\""
        },
        {
         "metadata": "{}",
         "name": "size",
         "type": "\"string\""
        },
        {
         "metadata": "{}",
         "name": "file_path",
         "type": "\"string\""
        },
        {
         "metadata": "{}",
         "name": "file_size",
         "type": "\"long\""
        },
        {
         "metadata": "{}",
         "name": "file_modification_time",
         "type": "\"timestamp\""
        },
        {
         "metadata": "{}",
         "name": "active_status",
         "type": "\"string\""
        },
        {
         "metadata": "{}",
         "name": "valid_from",
         "type": "\"date\""
        },
        {
         "metadata": "{}",
         "name": "valid_to",
         "type": "\"date\""
        }
       ],
       "type": "table"
      }
     },
     "output_type": "display_data"
    }
   ],
   "source": [
    "%sql\n",
    "select * from silver.products_silver order by ProductId;"
   ]
  },
  {
   "cell_type": "markdown",
   "metadata": {
    "application/vnd.databricks.v1+cell": {
     "cellMetadata": {},
     "inputWidgets": {},
     "nuid": "86402a71-056f-448a-b111-68df27b8dd5e",
     "showTitle": false,
     "title": ""
    }
   },
   "source": [
    "# Assign SK to fact sales"
   ]
  },
  {
   "cell_type": "code",
   "execution_count": 0,
   "metadata": {
    "application/vnd.databricks.v1+cell": {
     "cellMetadata": {
      "byteLimit": 2048000,
      "rowLimit": 10000
     },
     "inputWidgets": {},
     "nuid": "cb85293c-8624-46d2-90ce-d75b2b2ec3fe",
     "showTitle": false,
     "title": ""
    }
   },
   "outputs": [
    {
     "output_type": "display_data",
     "data": {
      "text/html": [
       "<style scoped>\n",
       "  .table-result-container {\n",
       "    max-height: 300px;\n",
       "    overflow: auto;\n",
       "  }\n",
       "  table, th, td {\n",
       "    border: 1px solid black;\n",
       "    border-collapse: collapse;\n",
       "  }\n",
       "  th, td {\n",
       "    padding: 5px;\n",
       "  }\n",
       "  th {\n",
       "    text-align: left;\n",
       "  }\n",
       "</style><div class='table-result-container'><table class='table-result'><thead style='background-color: white'><tr><th>order_num</th><th>order_ln</th><th>date</th><th>price</th><th>qty</th><th>discount</th><th>product_code</th><th>brand_id</th><th>customer_id</th><th>cost</th></tr></thead><tbody><tr><td>1001</td><td>1</td><td>2022-06-05</td><td>50.0</td><td>1</td><td>0%</td><td>PR0001</td><td>BR01</td><td>99</td><td>32.0</td></tr><tr><td>1002</td><td>1</td><td>2022-06-05</td><td>30.0</td><td>2</td><td>0%</td><td>PR0002</td><td>BR01</td><td>null</td><td>12.5</td></tr><tr><td>1003</td><td>1</td><td>2022-06-06</td><td>25.0</td><td>1</td><td>0%</td><td>PR0003</td><td>BR02</td><td>null</td><td>10.0</td></tr><tr><td>1004</td><td>1</td><td>2022-06-06</td><td>35.0</td><td>1</td><td>0%</td><td>PR0001</td><td>BR01</td><td>150</td><td>32.0</td></tr><tr><td>1005</td><td>1</td><td>2022-06-06</td><td>25.5</td><td>3</td><td>10%</td><td>PR0004</td><td>BR03</td><td>null</td><td>11.0</td></tr><tr><td>1005</td><td>2</td><td>2022-06-06</td><td>16.9</td><td>1</td><td>0%</td><td>PR0005</td><td>BR02</td><td>null</td><td>8.0</td></tr><tr><td>1005</td><td>3</td><td>2022-06-06</td><td>27.0</td><td>1</td><td>0%</td><td>PR0001</td><td>BR01</td><td>null</td><td>32.0</td></tr><tr><td>1006</td><td>1</td><td>2022-06-07</td><td>95.0</td><td>2</td><td>5%</td><td>PR0004</td><td>BR03</td><td>215</td><td>11.0</td></tr><tr><td>1007</td><td>1</td><td>2022-06-08</td><td>16.0</td><td>1</td><td>0%</td><td>PR0006</td><td>BR04</td><td>99</td><td>8.5</td></tr><tr><td>1007</td><td>2</td><td>2022-06-08</td><td>22.0</td><td>1</td><td>0%</td><td>PR0002</td><td>BR01</td><td>99</td><td>12.5</td></tr></tbody></table></div>"
      ]
     },
     "metadata": {
      "application/vnd.databricks.v1+output": {
       "addedWidgets": {},
       "aggData": [],
       "aggError": "",
       "aggOverflow": false,
       "aggSchema": [],
       "aggSeriesLimitReached": false,
       "aggType": "",
       "arguments": {},
       "columnCustomDisplayInfos": {},
       "data": [
        [
         1001,
         1,
         "2022-06-05",
         50.0,
         1,
         "0%",
         "PR0001",
         "BR01",
         99,
         32.0
        ],
        [
         1002,
         1,
         "2022-06-05",
         30.0,
         2,
         "0%",
         "PR0002",
         "BR01",
         null,
         12.5
        ],
        [
         1003,
         1,
         "2022-06-06",
         25.0,
         1,
         "0%",
         "PR0003",
         "BR02",
         null,
         10.0
        ],
        [
         1004,
         1,
         "2022-06-06",
         35.0,
         1,
         "0%",
         "PR0001",
         "BR01",
         150,
         32.0
        ],
        [
         1005,
         1,
         "2022-06-06",
         25.5,
         3,
         "10%",
         "PR0004",
         "BR03",
         null,
         11.0
        ],
        [
         1005,
         2,
         "2022-06-06",
         16.9,
         1,
         "0%",
         "PR0005",
         "BR02",
         null,
         8.0
        ],
        [
         1005,
         3,
         "2022-06-06",
         27.0,
         1,
         "0%",
         "PR0001",
         "BR01",
         null,
         32.0
        ],
        [
         1006,
         1,
         "2022-06-07",
         95.0,
         2,
         "5%",
         "PR0004",
         "BR03",
         215,
         11.0
        ],
        [
         1007,
         1,
         "2022-06-08",
         16.0,
         1,
         "0%",
         "PR0006",
         "BR04",
         99,
         8.5
        ],
        [
         1007,
         2,
         "2022-06-08",
         22.0,
         1,
         "0%",
         "PR0002",
         "BR01",
         99,
         12.5
        ]
       ],
       "datasetInfos": [],
       "dbfsResultPath": null,
       "isJsonSchema": true,
       "metadata": {},
       "overflow": false,
       "plotOptions": {
        "customPlotOptions": {},
        "displayType": "table",
        "pivotAggregation": null,
        "pivotColumns": null,
        "xColumns": null,
        "yColumns": null
       },
       "removedWidgets": [],
       "schema": [
        {
         "metadata": "{}",
         "name": "order_num",
         "type": "\"integer\""
        },
        {
         "metadata": "{}",
         "name": "order_ln",
         "type": "\"integer\""
        },
        {
         "metadata": "{\"__detected_date_formats\":\"yyyy-M-d\"}",
         "name": "date",
         "type": "\"date\""
        },
        {
         "metadata": "{}",
         "name": "price",
         "type": "\"double\""
        },
        {
         "metadata": "{}",
         "name": "qty",
         "type": "\"integer\""
        },
        {
         "metadata": "{}",
         "name": "discount",
         "type": "\"string\""
        },
        {
         "metadata": "{}",
         "name": "product_code",
         "type": "\"string\""
        },
        {
         "metadata": "{}",
         "name": "brand_id",
         "type": "\"string\""
        },
        {
         "metadata": "{}",
         "name": "customer_id",
         "type": "\"integer\""
        },
        {
         "metadata": "{}",
         "name": "cost",
         "type": "\"double\""
        }
       ],
       "type": "table"
      }
     },
     "output_type": "display_data"
    }
   ],
   "source": [
    "fact_sales=spark.read.csv('/FileStore/mnt/test_bucket/landing/sales/2022_06_09_091745_sales.csv', header=True, inferSchema=True)\n",
    "display(fact_sales)"
   ]
  },
  {
   "cell_type": "code",
   "execution_count": 0,
   "metadata": {
    "application/vnd.databricks.v1+cell": {
     "cellMetadata": {
      "byteLimit": 2048000,
      "rowLimit": 10000
     },
     "inputWidgets": {},
     "nuid": "3a487494-5a78-4646-a58c-931d78f97030",
     "showTitle": false,
     "title": ""
    }
   },
   "outputs": [],
   "source": [
    "fact_sales.createOrReplaceTempView('sales')"
   ]
  },
  {
   "cell_type": "code",
   "execution_count": 0,
   "metadata": {
    "application/vnd.databricks.v1+cell": {
     "cellMetadata": {
      "byteLimit": 2048000,
      "implicitDf": true,
      "rowLimit": 10000
     },
     "inputWidgets": {},
     "nuid": "ecdd7453-b99a-43d6-beda-b3f431dfb885",
     "showTitle": false,
     "title": ""
    }
   },
   "outputs": [
    {
     "output_type": "display_data",
     "data": {
      "text/html": [
       "<style scoped>\n",
       "  .table-result-container {\n",
       "    max-height: 300px;\n",
       "    overflow: auto;\n",
       "  }\n",
       "  table, th, td {\n",
       "    border: 1px solid black;\n",
       "    border-collapse: collapse;\n",
       "  }\n",
       "  th, td {\n",
       "    padding: 5px;\n",
       "  }\n",
       "  th {\n",
       "    text-align: left;\n",
       "  }\n",
       "</style><div class='table-result-container'><table class='table-result'><thead style='background-color: white'><tr><th>ProductId</th><th>product_code</th><th>order_num</th><th>order_ln</th><th>date</th><th>price</th><th>qty</th><th>discount</th><th>brand_id</th><th>customer_id</th><th>cost</th></tr></thead><tbody><tr><td>10</td><td>PR0001</td><td>1005</td><td>3</td><td>2022-06-06</td><td>27.0</td><td>1</td><td>0%</td><td>BR01</td><td>null</td><td>32.0</td></tr><tr><td>10</td><td>PR0001</td><td>1004</td><td>1</td><td>2022-06-06</td><td>35.0</td><td>1</td><td>0%</td><td>BR01</td><td>150</td><td>32.0</td></tr><tr><td>10</td><td>PR0001</td><td>1001</td><td>1</td><td>2022-06-05</td><td>50.0</td><td>1</td><td>0%</td><td>BR01</td><td>99</td><td>32.0</td></tr><tr><td>8</td><td>PR0002</td><td>1007</td><td>2</td><td>2022-06-08</td><td>22.0</td><td>1</td><td>0%</td><td>BR01</td><td>99</td><td>12.5</td></tr><tr><td>8</td><td>PR0002</td><td>1002</td><td>1</td><td>2022-06-05</td><td>30.0</td><td>2</td><td>0%</td><td>BR01</td><td>null</td><td>12.5</td></tr><tr><td>5</td><td>PR0003</td><td>1003</td><td>1</td><td>2022-06-06</td><td>25.0</td><td>1</td><td>0%</td><td>BR02</td><td>null</td><td>10.0</td></tr><tr><td>3</td><td>PR0004</td><td>1006</td><td>1</td><td>2022-06-07</td><td>95.0</td><td>2</td><td>5%</td><td>BR03</td><td>215</td><td>11.0</td></tr><tr><td>3</td><td>PR0004</td><td>1005</td><td>1</td><td>2022-06-06</td><td>25.5</td><td>3</td><td>10%</td><td>BR03</td><td>null</td><td>11.0</td></tr><tr><td>1</td><td>PR0005</td><td>1005</td><td>2</td><td>2022-06-06</td><td>16.9</td><td>1</td><td>0%</td><td>BR02</td><td>null</td><td>8.0</td></tr><tr><td>6</td><td>PR0006</td><td>1007</td><td>1</td><td>2022-06-08</td><td>16.0</td><td>1</td><td>0%</td><td>BR04</td><td>99</td><td>8.5</td></tr></tbody></table></div>"
      ]
     },
     "metadata": {
      "application/vnd.databricks.v1+output": {
       "addedWidgets": {},
       "aggData": [],
       "aggError": "",
       "aggOverflow": false,
       "aggSchema": [],
       "aggSeriesLimitReached": false,
       "aggType": "",
       "arguments": {},
       "columnCustomDisplayInfos": {},
       "data": [
        [
         10,
         "PR0001",
         1005,
         3,
         "2022-06-06",
         27.0,
         1,
         "0%",
         "BR01",
         null,
         32.0
        ],
        [
         10,
         "PR0001",
         1004,
         1,
         "2022-06-06",
         35.0,
         1,
         "0%",
         "BR01",
         150,
         32.0
        ],
        [
         10,
         "PR0001",
         1001,
         1,
         "2022-06-05",
         50.0,
         1,
         "0%",
         "BR01",
         99,
         32.0
        ],
        [
         8,
         "PR0002",
         1007,
         2,
         "2022-06-08",
         22.0,
         1,
         "0%",
         "BR01",
         99,
         12.5
        ],
        [
         8,
         "PR0002",
         1002,
         1,
         "2022-06-05",
         30.0,
         2,
         "0%",
         "BR01",
         null,
         12.5
        ],
        [
         5,
         "PR0003",
         1003,
         1,
         "2022-06-06",
         25.0,
         1,
         "0%",
         "BR02",
         null,
         10.0
        ],
        [
         3,
         "PR0004",
         1006,
         1,
         "2022-06-07",
         95.0,
         2,
         "5%",
         "BR03",
         215,
         11.0
        ],
        [
         3,
         "PR0004",
         1005,
         1,
         "2022-06-06",
         25.5,
         3,
         "10%",
         "BR03",
         null,
         11.0
        ],
        [
         1,
         "PR0005",
         1005,
         2,
         "2022-06-06",
         16.9,
         1,
         "0%",
         "BR02",
         null,
         8.0
        ],
        [
         6,
         "PR0006",
         1007,
         1,
         "2022-06-08",
         16.0,
         1,
         "0%",
         "BR04",
         99,
         8.5
        ]
       ],
       "datasetInfos": [],
       "dbfsResultPath": null,
       "isJsonSchema": true,
       "metadata": {},
       "overflow": false,
       "plotOptions": {
        "customPlotOptions": {},
        "displayType": "table",
        "pivotAggregation": null,
        "pivotColumns": null,
        "xColumns": null,
        "yColumns": null
       },
       "removedWidgets": [],
       "schema": [
        {
         "metadata": "{}",
         "name": "ProductId",
         "type": "\"long\""
        },
        {
         "metadata": "{}",
         "name": "product_code",
         "type": "\"string\""
        },
        {
         "metadata": "{}",
         "name": "order_num",
         "type": "\"integer\""
        },
        {
         "metadata": "{}",
         "name": "order_ln",
         "type": "\"integer\""
        },
        {
         "metadata": "{\"__detected_date_formats\":\"yyyy-M-d\"}",
         "name": "date",
         "type": "\"date\""
        },
        {
         "metadata": "{}",
         "name": "price",
         "type": "\"double\""
        },
        {
         "metadata": "{}",
         "name": "qty",
         "type": "\"integer\""
        },
        {
         "metadata": "{}",
         "name": "discount",
         "type": "\"string\""
        },
        {
         "metadata": "{}",
         "name": "brand_id",
         "type": "\"string\""
        },
        {
         "metadata": "{}",
         "name": "customer_id",
         "type": "\"integer\""
        },
        {
         "metadata": "{}",
         "name": "cost",
         "type": "\"double\""
        }
       ],
       "type": "table"
      }
     },
     "output_type": "display_data"
    }
   ],
   "source": [
    "%sql\n",
    "select pr.ProductId, s.product_code, s.order_num, s.order_ln, s.date, s.price, s.qty, s.discount, s.brand_id, s.customer_id, s.cost\n",
    "from sales s\n",
    "join silver.products_silver pr\n",
    "on s.product_code=pr.product_code and pr.active_status != 'N'\n",
    "-- join silver.brands_silver br\n",
    "-- on s.brand_id=br.brand_id and br.active_status != 'N'\n",
    "order by s.product_code;\n"
   ]
  },
  {
   "cell_type": "code",
   "execution_count": 0,
   "metadata": {
    "application/vnd.databricks.v1+cell": {
     "cellMetadata": {
      "byteLimit": 2048000,
      "implicitDf": true,
      "rowLimit": 10000
     },
     "inputWidgets": {},
     "nuid": "f1e17c44-6f2e-4355-b87c-1b6b32b8ba26",
     "showTitle": false,
     "title": ""
    }
   },
   "outputs": [
    {
     "output_type": "display_data",
     "data": {
      "text/html": [
       "<style scoped>\n",
       "  .table-result-container {\n",
       "    max-height: 300px;\n",
       "    overflow: auto;\n",
       "  }\n",
       "  table, th, td {\n",
       "    border: 1px solid black;\n",
       "    border-collapse: collapse;\n",
       "  }\n",
       "  th, td {\n",
       "    padding: 5px;\n",
       "  }\n",
       "  th {\n",
       "    text-align: left;\n",
       "  }\n",
       "</style><div class='table-result-container'><table class='table-result'><thead style='background-color: white'><tr><th>order_num</th><th>order_ln</th><th>date</th><th>price</th><th>qty</th><th>discount</th><th>product_code</th><th>brand_id</th><th>customer_id</th><th>cost</th></tr></thead><tbody><tr><td>1001</td><td>1</td><td>2022-06-05</td><td>50.0</td><td>1</td><td>0%</td><td>PR0001</td><td>BR01</td><td>99</td><td>32.0</td></tr><tr><td>1002</td><td>1</td><td>2022-06-05</td><td>30.0</td><td>2</td><td>0%</td><td>PR0002</td><td>BR01</td><td>null</td><td>12.5</td></tr><tr><td>1003</td><td>1</td><td>2022-06-06</td><td>25.0</td><td>1</td><td>0%</td><td>PR0003</td><td>BR02</td><td>null</td><td>10.0</td></tr><tr><td>1004</td><td>1</td><td>2022-06-06</td><td>35.0</td><td>1</td><td>0%</td><td>PR0001</td><td>BR01</td><td>150</td><td>32.0</td></tr><tr><td>1005</td><td>1</td><td>2022-06-06</td><td>25.5</td><td>3</td><td>10%</td><td>PR0004</td><td>BR03</td><td>null</td><td>11.0</td></tr><tr><td>1005</td><td>2</td><td>2022-06-06</td><td>16.9</td><td>1</td><td>0%</td><td>PR0005</td><td>BR02</td><td>null</td><td>8.0</td></tr><tr><td>1005</td><td>3</td><td>2022-06-06</td><td>27.0</td><td>1</td><td>0%</td><td>PR0001</td><td>BR01</td><td>null</td><td>32.0</td></tr><tr><td>1006</td><td>1</td><td>2022-06-07</td><td>95.0</td><td>2</td><td>5%</td><td>PR0004</td><td>BR03</td><td>215</td><td>11.0</td></tr><tr><td>1007</td><td>1</td><td>2022-06-08</td><td>16.0</td><td>1</td><td>0%</td><td>PR0006</td><td>BR04</td><td>99</td><td>8.5</td></tr><tr><td>1007</td><td>2</td><td>2022-06-08</td><td>22.0</td><td>1</td><td>0%</td><td>PR0002</td><td>BR01</td><td>99</td><td>12.5</td></tr></tbody></table></div>"
      ]
     },
     "metadata": {
      "application/vnd.databricks.v1+output": {
       "addedWidgets": {},
       "aggData": [],
       "aggError": "",
       "aggOverflow": false,
       "aggSchema": [],
       "aggSeriesLimitReached": false,
       "aggType": "",
       "arguments": {},
       "columnCustomDisplayInfos": {},
       "data": [
        [
         1001,
         1,
         "2022-06-05",
         50.0,
         1,
         "0%",
         "PR0001",
         "BR01",
         99,
         32.0
        ],
        [
         1002,
         1,
         "2022-06-05",
         30.0,
         2,
         "0%",
         "PR0002",
         "BR01",
         null,
         12.5
        ],
        [
         1003,
         1,
         "2022-06-06",
         25.0,
         1,
         "0%",
         "PR0003",
         "BR02",
         null,
         10.0
        ],
        [
         1004,
         1,
         "2022-06-06",
         35.0,
         1,
         "0%",
         "PR0001",
         "BR01",
         150,
         32.0
        ],
        [
         1005,
         1,
         "2022-06-06",
         25.5,
         3,
         "10%",
         "PR0004",
         "BR03",
         null,
         11.0
        ],
        [
         1005,
         2,
         "2022-06-06",
         16.9,
         1,
         "0%",
         "PR0005",
         "BR02",
         null,
         8.0
        ],
        [
         1005,
         3,
         "2022-06-06",
         27.0,
         1,
         "0%",
         "PR0001",
         "BR01",
         null,
         32.0
        ],
        [
         1006,
         1,
         "2022-06-07",
         95.0,
         2,
         "5%",
         "PR0004",
         "BR03",
         215,
         11.0
        ],
        [
         1007,
         1,
         "2022-06-08",
         16.0,
         1,
         "0%",
         "PR0006",
         "BR04",
         99,
         8.5
        ],
        [
         1007,
         2,
         "2022-06-08",
         22.0,
         1,
         "0%",
         "PR0002",
         "BR01",
         99,
         12.5
        ]
       ],
       "datasetInfos": [],
       "dbfsResultPath": null,
       "isJsonSchema": true,
       "metadata": {},
       "overflow": false,
       "plotOptions": {
        "customPlotOptions": {},
        "displayType": "table",
        "pivotAggregation": null,
        "pivotColumns": null,
        "xColumns": null,
        "yColumns": null
       },
       "removedWidgets": [],
       "schema": [
        {
         "metadata": "{}",
         "name": "order_num",
         "type": "\"integer\""
        },
        {
         "metadata": "{}",
         "name": "order_ln",
         "type": "\"integer\""
        },
        {
         "metadata": "{\"__detected_date_formats\":\"yyyy-M-d\"}",
         "name": "date",
         "type": "\"date\""
        },
        {
         "metadata": "{}",
         "name": "price",
         "type": "\"double\""
        },
        {
         "metadata": "{}",
         "name": "qty",
         "type": "\"integer\""
        },
        {
         "metadata": "{}",
         "name": "discount",
         "type": "\"string\""
        },
        {
         "metadata": "{}",
         "name": "product_code",
         "type": "\"string\""
        },
        {
         "metadata": "{}",
         "name": "brand_id",
         "type": "\"string\""
        },
        {
         "metadata": "{}",
         "name": "customer_id",
         "type": "\"integer\""
        },
        {
         "metadata": "{}",
         "name": "cost",
         "type": "\"double\""
        }
       ],
       "type": "table"
      }
     },
     "output_type": "display_data"
    }
   ],
   "source": [
    "%sql\n",
    "select * from sales;"
   ]
  },
  {
   "cell_type": "code",
   "execution_count": 0,
   "metadata": {
    "application/vnd.databricks.v1+cell": {
     "cellMetadata": {
      "byteLimit": 2048000,
      "implicitDf": true,
      "rowLimit": 10000
     },
     "inputWidgets": {},
     "nuid": "b1b68e80-b977-4e54-97a2-5164f8559bbd",
     "showTitle": false,
     "title": ""
    }
   },
   "outputs": [
    {
     "output_type": "display_data",
     "data": {
      "text/html": [
       "<style scoped>\n",
       "  .table-result-container {\n",
       "    max-height: 300px;\n",
       "    overflow: auto;\n",
       "  }\n",
       "  table, th, td {\n",
       "    border: 1px solid black;\n",
       "    border-collapse: collapse;\n",
       "  }\n",
       "  th, td {\n",
       "    padding: 5px;\n",
       "  }\n",
       "  th {\n",
       "    text-align: left;\n",
       "  }\n",
       "</style><div class='table-result-container'><table class='table-result'><thead style='background-color: white'><tr><th>ProductId</th><th>product_code</th><th>product_name</th><th>category</th><th>description</th><th>gender</th><th>color</th><th>size</th><th>file_path</th><th>file_size</th><th>file_modification_time</th><th>active_status</th><th>valid_from</th><th>valid_to</th></tr></thead><tbody><tr><td>7</td><td>PR0098</td><td>Product 98</td><td>pants</td><td>long skinny</td><td>female</td><td>black</td><td>32</td><td>dbfs:/FileStore/mnt/test_bucket/landing/products/2022_06_09_091705_products___Copy.csv</td><td>350</td><td>2023-11-28T20:39:02.000+0000</td><td>Y</td><td>2023-11-28</td><td>9999-12-31</td></tr><tr><td>2</td><td>PR0002</td><td>Product 2</td><td>pants</td><td>long pants</td><td>female</td><td>white</td><td>42</td><td>dbfs:/FileStore/mnt/test_bucket/landing/products/2022_06_09_091705_products.csv</td><td>398</td><td>2023-11-28T20:37:57.000+0000</td><td>N</td><td>2023-01-01</td><td>2023-11-27</td></tr><tr><td>4</td><td>PR0001</td><td>Product 1</td><td>shoes</td><td>running shoes</td><td>unisex</td><td>black</td><td>8</td><td>dbfs:/FileStore/mnt/test_bucket/landing/products/2022_06_09_091705_products.csv</td><td>398</td><td>2023-11-28T20:37:57.000+0000</td><td>N</td><td>2023-01-01</td><td>2023-11-27</td></tr><tr><td>9</td><td>PR0099</td><td>Product 99</td><td>accessories</td><td>accessories young girls</td><td>female</td><td>blue</td><td>UN</td><td>dbfs:/FileStore/mnt/test_bucket/landing/products/2022_06_09_091705_products___Copy.csv</td><td>350</td><td>2023-11-28T20:39:02.000+0000</td><td>Y</td><td>2023-11-28</td><td>9999-12-31</td></tr><tr><td>8</td><td>PR0002</td><td>Product 2</td><td>changed</td><td>long pants</td><td>female</td><td>white</td><td>42</td><td>dbfs:/FileStore/mnt/test_bucket/landing/products/2022_06_09_091705_products___Copy.csv</td><td>350</td><td>2023-11-28T20:39:02.000+0000</td><td>Y</td><td>2023-11-28</td><td>9999-12-31</td></tr><tr><td>10</td><td>PR0001</td><td>Product 1</td><td>changed</td><td>running shoes</td><td>unisex</td><td>black</td><td>8</td><td>dbfs:/FileStore/mnt/test_bucket/landing/products/2022_06_09_091705_products___Copy.csv</td><td>350</td><td>2023-11-28T20:39:02.000+0000</td><td>Y</td><td>2023-11-28</td><td>9999-12-31</td></tr><tr><td>1</td><td>PR0005</td><td>Product 5</td><td>pants</td><td>long skinny</td><td>female</td><td>black</td><td>32</td><td>dbfs:/FileStore/mnt/test_bucket/landing/products/2022_06_09_091705_products.csv</td><td>398</td><td>2023-11-28T20:37:57.000+0000</td><td>Y</td><td>2023-01-01</td><td>9999-12-31</td></tr><tr><td>3</td><td>PR0004</td><td>Product 4</td><td>shoes</td><td>sport shoes</td><td>female</td><td>blue</td><td>7</td><td>dbfs:/FileStore/mnt/test_bucket/landing/products/2022_06_09_091705_products.csv</td><td>398</td><td>2023-11-28T20:37:57.000+0000</td><td>Y</td><td>2023-01-01</td><td>9999-12-31</td></tr><tr><td>5</td><td>PR0003</td><td>Product 3</td><td>underwear</td><td>underwear male</td><td>male</td><td>red</td><td>M</td><td>dbfs:/FileStore/mnt/test_bucket/landing/products/2022_06_09_091705_products.csv</td><td>398</td><td>2023-11-28T20:37:57.000+0000</td><td>Y</td><td>2023-01-01</td><td>9999-12-31</td></tr><tr><td>6</td><td>PR0006</td><td>Product 6</td><td>accessories</td><td>accessories young girls</td><td>female</td><td>blue</td><td>UN</td><td>dbfs:/FileStore/mnt/test_bucket/landing/products/2022_06_09_091705_products.csv</td><td>398</td><td>2023-11-28T20:37:57.000+0000</td><td>Y</td><td>2023-01-01</td><td>9999-12-31</td></tr></tbody></table></div>"
      ]
     },
     "metadata": {
      "application/vnd.databricks.v1+output": {
       "addedWidgets": {},
       "aggData": [],
       "aggError": "",
       "aggOverflow": false,
       "aggSchema": [],
       "aggSeriesLimitReached": false,
       "aggType": "",
       "arguments": {},
       "columnCustomDisplayInfos": {},
       "data": [
        [
         7,
         "PR0098",
         "Product 98",
         "pants",
         "long skinny",
         "female",
         "black",
         "32",
         "dbfs:/FileStore/mnt/test_bucket/landing/products/2022_06_09_091705_products___Copy.csv",
         350,
         "2023-11-28T20:39:02.000+0000",
         "Y",
         "2023-11-28",
         "9999-12-31"
        ],
        [
         2,
         "PR0002",
         "Product 2",
         "pants",
         "long pants",
         "female",
         "white",
         "42",
         "dbfs:/FileStore/mnt/test_bucket/landing/products/2022_06_09_091705_products.csv",
         398,
         "2023-11-28T20:37:57.000+0000",
         "N",
         "2023-01-01",
         "2023-11-27"
        ],
        [
         4,
         "PR0001",
         "Product 1",
         "shoes",
         "running shoes",
         "unisex",
         "black",
         "8",
         "dbfs:/FileStore/mnt/test_bucket/landing/products/2022_06_09_091705_products.csv",
         398,
         "2023-11-28T20:37:57.000+0000",
         "N",
         "2023-01-01",
         "2023-11-27"
        ],
        [
         9,
         "PR0099",
         "Product 99",
         "accessories",
         "accessories young girls",
         "female",
         "blue",
         "UN",
         "dbfs:/FileStore/mnt/test_bucket/landing/products/2022_06_09_091705_products___Copy.csv",
         350,
         "2023-11-28T20:39:02.000+0000",
         "Y",
         "2023-11-28",
         "9999-12-31"
        ],
        [
         8,
         "PR0002",
         "Product 2",
         "changed",
         "long pants",
         "female",
         "white",
         "42",
         "dbfs:/FileStore/mnt/test_bucket/landing/products/2022_06_09_091705_products___Copy.csv",
         350,
         "2023-11-28T20:39:02.000+0000",
         "Y",
         "2023-11-28",
         "9999-12-31"
        ],
        [
         10,
         "PR0001",
         "Product 1",
         "changed",
         "running shoes",
         "unisex",
         "black",
         "8",
         "dbfs:/FileStore/mnt/test_bucket/landing/products/2022_06_09_091705_products___Copy.csv",
         350,
         "2023-11-28T20:39:02.000+0000",
         "Y",
         "2023-11-28",
         "9999-12-31"
        ],
        [
         1,
         "PR0005",
         "Product 5",
         "pants",
         "long skinny",
         "female",
         "black",
         "32",
         "dbfs:/FileStore/mnt/test_bucket/landing/products/2022_06_09_091705_products.csv",
         398,
         "2023-11-28T20:37:57.000+0000",
         "Y",
         "2023-01-01",
         "9999-12-31"
        ],
        [
         3,
         "PR0004",
         "Product 4",
         "shoes",
         "sport shoes",
         "female",
         "blue",
         "7",
         "dbfs:/FileStore/mnt/test_bucket/landing/products/2022_06_09_091705_products.csv",
         398,
         "2023-11-28T20:37:57.000+0000",
         "Y",
         "2023-01-01",
         "9999-12-31"
        ],
        [
         5,
         "PR0003",
         "Product 3",
         "underwear",
         "underwear male",
         "male",
         "red",
         "M",
         "dbfs:/FileStore/mnt/test_bucket/landing/products/2022_06_09_091705_products.csv",
         398,
         "2023-11-28T20:37:57.000+0000",
         "Y",
         "2023-01-01",
         "9999-12-31"
        ],
        [
         6,
         "PR0006",
         "Product 6",
         "accessories",
         "accessories young girls",
         "female",
         "blue",
         "UN",
         "dbfs:/FileStore/mnt/test_bucket/landing/products/2022_06_09_091705_products.csv",
         398,
         "2023-11-28T20:37:57.000+0000",
         "Y",
         "2023-01-01",
         "9999-12-31"
        ]
       ],
       "datasetInfos": [],
       "dbfsResultPath": null,
       "isJsonSchema": true,
       "metadata": {},
       "overflow": false,
       "plotOptions": {
        "customPlotOptions": {},
        "displayType": "table",
        "pivotAggregation": null,
        "pivotColumns": null,
        "xColumns": null,
        "yColumns": null
       },
       "removedWidgets": [],
       "schema": [
        {
         "metadata": "{}",
         "name": "ProductId",
         "type": "\"long\""
        },
        {
         "metadata": "{}",
         "name": "product_code",
         "type": "\"string\""
        },
        {
         "metadata": "{}",
         "name": "product_name",
         "type": "\"string\""
        },
        {
         "metadata": "{}",
         "name": "category",
         "type": "\"string\""
        },
        {
         "metadata": "{}",
         "name": "description",
         "type": "\"string\""
        },
        {
         "metadata": "{}",
         "name": "gender",
         "type": "\"string\""
        },
        {
         "metadata": "{}",
         "name": "color",
         "type": "\"string\""
        },
        {
         "metadata": "{}",
         "name": "size",
         "type": "\"string\""
        },
        {
         "metadata": "{}",
         "name": "file_path",
         "type": "\"string\""
        },
        {
         "metadata": "{}",
         "name": "file_size",
         "type": "\"long\""
        },
        {
         "metadata": "{}",
         "name": "file_modification_time",
         "type": "\"timestamp\""
        },
        {
         "metadata": "{}",
         "name": "active_status",
         "type": "\"string\""
        },
        {
         "metadata": "{}",
         "name": "valid_from",
         "type": "\"date\""
        },
        {
         "metadata": "{}",
         "name": "valid_to",
         "type": "\"date\""
        }
       ],
       "type": "table"
      }
     },
     "output_type": "display_data"
    }
   ],
   "source": [
    "%sql\n",
    "select * from silver.products_silver;"
   ]
  },
  {
   "cell_type": "code",
   "execution_count": 0,
   "metadata": {
    "application/vnd.databricks.v1+cell": {
     "cellMetadata": {
      "byteLimit": 2048000,
      "rowLimit": 10000
     },
     "inputWidgets": {},
     "nuid": "4b32c998-7b95-49dd-b41c-39330f6f683c",
     "showTitle": false,
     "title": ""
    }
   },
   "outputs": [
    {
     "output_type": "display_data",
     "data": {
      "text/plain": [
       "\u001B[0;31m---------------------------------------------------------------------------\u001B[0m\n",
       "\u001B[0;31mAnalysisException\u001B[0m                         Traceback (most recent call last)\n",
       "File \u001B[0;32m<command-1298894578063971>:1\u001B[0m\n",
       "\u001B[0;32m----> 1\u001B[0m fact_sales2\u001B[38;5;241m=\u001B[39m\u001B[43mspark\u001B[49m\u001B[38;5;241;43m.\u001B[39;49m\u001B[43mread\u001B[49m\u001B[38;5;241;43m.\u001B[39;49m\u001B[43mcsv\u001B[49m\u001B[43m(\u001B[49m\u001B[38;5;124;43m'\u001B[39;49m\u001B[38;5;124;43m/FileStore/mnt/test_bucket/landing/brands/\u001B[39;49m\u001B[38;5;124;43m'\u001B[39;49m\u001B[43m,\u001B[49m\u001B[43m \u001B[49m\u001B[43mheader\u001B[49m\u001B[38;5;241;43m=\u001B[39;49m\u001B[38;5;28;43;01mTrue\u001B[39;49;00m\u001B[43m,\u001B[49m\u001B[43m \u001B[49m\u001B[43minferSchema\u001B[49m\u001B[38;5;241;43m=\u001B[39;49m\u001B[38;5;28;43;01mTrue\u001B[39;49;00m\u001B[43m)\u001B[49m\n",
       "\n",
       "File \u001B[0;32m/databricks/spark/python/pyspark/instrumentation_utils.py:48\u001B[0m, in \u001B[0;36m_wrap_function.<locals>.wrapper\u001B[0;34m(*args, **kwargs)\u001B[0m\n",
       "\u001B[1;32m     46\u001B[0m start \u001B[38;5;241m=\u001B[39m time\u001B[38;5;241m.\u001B[39mperf_counter()\n",
       "\u001B[1;32m     47\u001B[0m \u001B[38;5;28;01mtry\u001B[39;00m:\n",
       "\u001B[0;32m---> 48\u001B[0m     res \u001B[38;5;241m=\u001B[39m \u001B[43mfunc\u001B[49m\u001B[43m(\u001B[49m\u001B[38;5;241;43m*\u001B[39;49m\u001B[43margs\u001B[49m\u001B[43m,\u001B[49m\u001B[43m \u001B[49m\u001B[38;5;241;43m*\u001B[39;49m\u001B[38;5;241;43m*\u001B[39;49m\u001B[43mkwargs\u001B[49m\u001B[43m)\u001B[49m\n",
       "\u001B[1;32m     49\u001B[0m     logger\u001B[38;5;241m.\u001B[39mlog_success(\n",
       "\u001B[1;32m     50\u001B[0m         module_name, class_name, function_name, time\u001B[38;5;241m.\u001B[39mperf_counter() \u001B[38;5;241m-\u001B[39m start, signature\n",
       "\u001B[1;32m     51\u001B[0m     )\n",
       "\u001B[1;32m     52\u001B[0m     \u001B[38;5;28;01mreturn\u001B[39;00m res\n",
       "\n",
       "File \u001B[0;32m/databricks/spark/python/pyspark/sql/readwriter.py:729\u001B[0m, in \u001B[0;36mDataFrameReader.csv\u001B[0;34m(self, path, schema, sep, encoding, quote, escape, comment, header, inferSchema, ignoreLeadingWhiteSpace, ignoreTrailingWhiteSpace, nullValue, nanValue, positiveInf, negativeInf, dateFormat, timestampFormat, maxColumns, maxCharsPerColumn, maxMalformedLogPerPartition, mode, columnNameOfCorruptRecord, multiLine, charToEscapeQuoteEscaping, samplingRatio, enforceSchema, emptyValue, locale, lineSep, pathGlobFilter, recursiveFileLookup, modifiedBefore, modifiedAfter, unescapedQuoteHandling)\u001B[0m\n",
       "\u001B[1;32m    727\u001B[0m \u001B[38;5;28;01mif\u001B[39;00m \u001B[38;5;28mtype\u001B[39m(path) \u001B[38;5;241m==\u001B[39m \u001B[38;5;28mlist\u001B[39m:\n",
       "\u001B[1;32m    728\u001B[0m     \u001B[38;5;28;01massert\u001B[39;00m \u001B[38;5;28mself\u001B[39m\u001B[38;5;241m.\u001B[39m_spark\u001B[38;5;241m.\u001B[39m_sc\u001B[38;5;241m.\u001B[39m_jvm \u001B[38;5;129;01mis\u001B[39;00m \u001B[38;5;129;01mnot\u001B[39;00m \u001B[38;5;28;01mNone\u001B[39;00m\n",
       "\u001B[0;32m--> 729\u001B[0m     \u001B[38;5;28;01mreturn\u001B[39;00m \u001B[38;5;28mself\u001B[39m\u001B[38;5;241m.\u001B[39m_df(\u001B[38;5;28;43mself\u001B[39;49m\u001B[38;5;241;43m.\u001B[39;49m\u001B[43m_jreader\u001B[49m\u001B[38;5;241;43m.\u001B[39;49m\u001B[43mcsv\u001B[49m\u001B[43m(\u001B[49m\u001B[38;5;28;43mself\u001B[39;49m\u001B[38;5;241;43m.\u001B[39;49m\u001B[43m_spark\u001B[49m\u001B[38;5;241;43m.\u001B[39;49m\u001B[43m_sc\u001B[49m\u001B[38;5;241;43m.\u001B[39;49m\u001B[43m_jvm\u001B[49m\u001B[38;5;241;43m.\u001B[39;49m\u001B[43mPythonUtils\u001B[49m\u001B[38;5;241;43m.\u001B[39;49m\u001B[43mtoSeq\u001B[49m\u001B[43m(\u001B[49m\u001B[43mpath\u001B[49m\u001B[43m)\u001B[49m\u001B[43m)\u001B[49m)\n",
       "\u001B[1;32m    730\u001B[0m \u001B[38;5;28;01melif\u001B[39;00m \u001B[38;5;28misinstance\u001B[39m(path, RDD):\n",
       "\u001B[1;32m    732\u001B[0m     \u001B[38;5;28;01mdef\u001B[39;00m \u001B[38;5;21mfunc\u001B[39m(iterator):\n",
       "\n",
       "File \u001B[0;32m/databricks/spark/python/lib/py4j-0.10.9.5-src.zip/py4j/java_gateway.py:1321\u001B[0m, in \u001B[0;36mJavaMember.__call__\u001B[0;34m(self, *args)\u001B[0m\n",
       "\u001B[1;32m   1315\u001B[0m command \u001B[38;5;241m=\u001B[39m proto\u001B[38;5;241m.\u001B[39mCALL_COMMAND_NAME \u001B[38;5;241m+\u001B[39m\\\n",
       "\u001B[1;32m   1316\u001B[0m     \u001B[38;5;28mself\u001B[39m\u001B[38;5;241m.\u001B[39mcommand_header \u001B[38;5;241m+\u001B[39m\\\n",
       "\u001B[1;32m   1317\u001B[0m     args_command \u001B[38;5;241m+\u001B[39m\\\n",
       "\u001B[1;32m   1318\u001B[0m     proto\u001B[38;5;241m.\u001B[39mEND_COMMAND_PART\n",
       "\u001B[1;32m   1320\u001B[0m answer \u001B[38;5;241m=\u001B[39m \u001B[38;5;28mself\u001B[39m\u001B[38;5;241m.\u001B[39mgateway_client\u001B[38;5;241m.\u001B[39msend_command(command)\n",
       "\u001B[0;32m-> 1321\u001B[0m return_value \u001B[38;5;241m=\u001B[39m \u001B[43mget_return_value\u001B[49m\u001B[43m(\u001B[49m\n",
       "\u001B[1;32m   1322\u001B[0m \u001B[43m    \u001B[49m\u001B[43manswer\u001B[49m\u001B[43m,\u001B[49m\u001B[43m \u001B[49m\u001B[38;5;28;43mself\u001B[39;49m\u001B[38;5;241;43m.\u001B[39;49m\u001B[43mgateway_client\u001B[49m\u001B[43m,\u001B[49m\u001B[43m \u001B[49m\u001B[38;5;28;43mself\u001B[39;49m\u001B[38;5;241;43m.\u001B[39;49m\u001B[43mtarget_id\u001B[49m\u001B[43m,\u001B[49m\u001B[43m \u001B[49m\u001B[38;5;28;43mself\u001B[39;49m\u001B[38;5;241;43m.\u001B[39;49m\u001B[43mname\u001B[49m\u001B[43m)\u001B[49m\n",
       "\u001B[1;32m   1324\u001B[0m \u001B[38;5;28;01mfor\u001B[39;00m temp_arg \u001B[38;5;129;01min\u001B[39;00m temp_args:\n",
       "\u001B[1;32m   1325\u001B[0m     temp_arg\u001B[38;5;241m.\u001B[39m_detach()\n",
       "\n",
       "File \u001B[0;32m/databricks/spark/python/pyspark/errors/exceptions.py:234\u001B[0m, in \u001B[0;36mcapture_sql_exception.<locals>.deco\u001B[0;34m(*a, **kw)\u001B[0m\n",
       "\u001B[1;32m    230\u001B[0m converted \u001B[38;5;241m=\u001B[39m convert_exception(e\u001B[38;5;241m.\u001B[39mjava_exception)\n",
       "\u001B[1;32m    231\u001B[0m \u001B[38;5;28;01mif\u001B[39;00m \u001B[38;5;129;01mnot\u001B[39;00m \u001B[38;5;28misinstance\u001B[39m(converted, UnknownException):\n",
       "\u001B[1;32m    232\u001B[0m     \u001B[38;5;66;03m# Hide where the exception came from that shows a non-Pythonic\u001B[39;00m\n",
       "\u001B[1;32m    233\u001B[0m     \u001B[38;5;66;03m# JVM exception message.\u001B[39;00m\n",
       "\u001B[0;32m--> 234\u001B[0m     \u001B[38;5;28;01mraise\u001B[39;00m converted \u001B[38;5;28;01mfrom\u001B[39;00m \u001B[38;5;28mNone\u001B[39m\n",
       "\u001B[1;32m    235\u001B[0m \u001B[38;5;28;01melse\u001B[39;00m:\n",
       "\u001B[1;32m    236\u001B[0m     \u001B[38;5;28;01mraise\u001B[39;00m\n",
       "\n",
       "\u001B[0;31mAnalysisException\u001B[0m: Unable to infer schema for CSV. It must be specified manually."
      ]
     },
     "metadata": {
      "application/vnd.databricks.v1+output": {
       "arguments": {},
       "data": "\u001B[0;31m---------------------------------------------------------------------------\u001B[0m\n\u001B[0;31mAnalysisException\u001B[0m                         Traceback (most recent call last)\nFile \u001B[0;32m<command-1298894578063971>:1\u001B[0m\n\u001B[0;32m----> 1\u001B[0m fact_sales2\u001B[38;5;241m=\u001B[39m\u001B[43mspark\u001B[49m\u001B[38;5;241;43m.\u001B[39;49m\u001B[43mread\u001B[49m\u001B[38;5;241;43m.\u001B[39;49m\u001B[43mcsv\u001B[49m\u001B[43m(\u001B[49m\u001B[38;5;124;43m'\u001B[39;49m\u001B[38;5;124;43m/FileStore/mnt/test_bucket/landing/brands/\u001B[39;49m\u001B[38;5;124;43m'\u001B[39;49m\u001B[43m,\u001B[49m\u001B[43m \u001B[49m\u001B[43mheader\u001B[49m\u001B[38;5;241;43m=\u001B[39;49m\u001B[38;5;28;43;01mTrue\u001B[39;49;00m\u001B[43m,\u001B[49m\u001B[43m \u001B[49m\u001B[43minferSchema\u001B[49m\u001B[38;5;241;43m=\u001B[39;49m\u001B[38;5;28;43;01mTrue\u001B[39;49;00m\u001B[43m)\u001B[49m\n\nFile \u001B[0;32m/databricks/spark/python/pyspark/instrumentation_utils.py:48\u001B[0m, in \u001B[0;36m_wrap_function.<locals>.wrapper\u001B[0;34m(*args, **kwargs)\u001B[0m\n\u001B[1;32m     46\u001B[0m start \u001B[38;5;241m=\u001B[39m time\u001B[38;5;241m.\u001B[39mperf_counter()\n\u001B[1;32m     47\u001B[0m \u001B[38;5;28;01mtry\u001B[39;00m:\n\u001B[0;32m---> 48\u001B[0m     res \u001B[38;5;241m=\u001B[39m \u001B[43mfunc\u001B[49m\u001B[43m(\u001B[49m\u001B[38;5;241;43m*\u001B[39;49m\u001B[43margs\u001B[49m\u001B[43m,\u001B[49m\u001B[43m \u001B[49m\u001B[38;5;241;43m*\u001B[39;49m\u001B[38;5;241;43m*\u001B[39;49m\u001B[43mkwargs\u001B[49m\u001B[43m)\u001B[49m\n\u001B[1;32m     49\u001B[0m     logger\u001B[38;5;241m.\u001B[39mlog_success(\n\u001B[1;32m     50\u001B[0m         module_name, class_name, function_name, time\u001B[38;5;241m.\u001B[39mperf_counter() \u001B[38;5;241m-\u001B[39m start, signature\n\u001B[1;32m     51\u001B[0m     )\n\u001B[1;32m     52\u001B[0m     \u001B[38;5;28;01mreturn\u001B[39;00m res\n\nFile \u001B[0;32m/databricks/spark/python/pyspark/sql/readwriter.py:729\u001B[0m, in \u001B[0;36mDataFrameReader.csv\u001B[0;34m(self, path, schema, sep, encoding, quote, escape, comment, header, inferSchema, ignoreLeadingWhiteSpace, ignoreTrailingWhiteSpace, nullValue, nanValue, positiveInf, negativeInf, dateFormat, timestampFormat, maxColumns, maxCharsPerColumn, maxMalformedLogPerPartition, mode, columnNameOfCorruptRecord, multiLine, charToEscapeQuoteEscaping, samplingRatio, enforceSchema, emptyValue, locale, lineSep, pathGlobFilter, recursiveFileLookup, modifiedBefore, modifiedAfter, unescapedQuoteHandling)\u001B[0m\n\u001B[1;32m    727\u001B[0m \u001B[38;5;28;01mif\u001B[39;00m \u001B[38;5;28mtype\u001B[39m(path) \u001B[38;5;241m==\u001B[39m \u001B[38;5;28mlist\u001B[39m:\n\u001B[1;32m    728\u001B[0m     \u001B[38;5;28;01massert\u001B[39;00m \u001B[38;5;28mself\u001B[39m\u001B[38;5;241m.\u001B[39m_spark\u001B[38;5;241m.\u001B[39m_sc\u001B[38;5;241m.\u001B[39m_jvm \u001B[38;5;129;01mis\u001B[39;00m \u001B[38;5;129;01mnot\u001B[39;00m \u001B[38;5;28;01mNone\u001B[39;00m\n\u001B[0;32m--> 729\u001B[0m     \u001B[38;5;28;01mreturn\u001B[39;00m \u001B[38;5;28mself\u001B[39m\u001B[38;5;241m.\u001B[39m_df(\u001B[38;5;28;43mself\u001B[39;49m\u001B[38;5;241;43m.\u001B[39;49m\u001B[43m_jreader\u001B[49m\u001B[38;5;241;43m.\u001B[39;49m\u001B[43mcsv\u001B[49m\u001B[43m(\u001B[49m\u001B[38;5;28;43mself\u001B[39;49m\u001B[38;5;241;43m.\u001B[39;49m\u001B[43m_spark\u001B[49m\u001B[38;5;241;43m.\u001B[39;49m\u001B[43m_sc\u001B[49m\u001B[38;5;241;43m.\u001B[39;49m\u001B[43m_jvm\u001B[49m\u001B[38;5;241;43m.\u001B[39;49m\u001B[43mPythonUtils\u001B[49m\u001B[38;5;241;43m.\u001B[39;49m\u001B[43mtoSeq\u001B[49m\u001B[43m(\u001B[49m\u001B[43mpath\u001B[49m\u001B[43m)\u001B[49m\u001B[43m)\u001B[49m)\n\u001B[1;32m    730\u001B[0m \u001B[38;5;28;01melif\u001B[39;00m \u001B[38;5;28misinstance\u001B[39m(path, RDD):\n\u001B[1;32m    732\u001B[0m     \u001B[38;5;28;01mdef\u001B[39;00m \u001B[38;5;21mfunc\u001B[39m(iterator):\n\nFile \u001B[0;32m/databricks/spark/python/lib/py4j-0.10.9.5-src.zip/py4j/java_gateway.py:1321\u001B[0m, in \u001B[0;36mJavaMember.__call__\u001B[0;34m(self, *args)\u001B[0m\n\u001B[1;32m   1315\u001B[0m command \u001B[38;5;241m=\u001B[39m proto\u001B[38;5;241m.\u001B[39mCALL_COMMAND_NAME \u001B[38;5;241m+\u001B[39m\\\n\u001B[1;32m   1316\u001B[0m     \u001B[38;5;28mself\u001B[39m\u001B[38;5;241m.\u001B[39mcommand_header \u001B[38;5;241m+\u001B[39m\\\n\u001B[1;32m   1317\u001B[0m     args_command \u001B[38;5;241m+\u001B[39m\\\n\u001B[1;32m   1318\u001B[0m     proto\u001B[38;5;241m.\u001B[39mEND_COMMAND_PART\n\u001B[1;32m   1320\u001B[0m answer \u001B[38;5;241m=\u001B[39m \u001B[38;5;28mself\u001B[39m\u001B[38;5;241m.\u001B[39mgateway_client\u001B[38;5;241m.\u001B[39msend_command(command)\n\u001B[0;32m-> 1321\u001B[0m return_value \u001B[38;5;241m=\u001B[39m \u001B[43mget_return_value\u001B[49m\u001B[43m(\u001B[49m\n\u001B[1;32m   1322\u001B[0m \u001B[43m    \u001B[49m\u001B[43manswer\u001B[49m\u001B[43m,\u001B[49m\u001B[43m \u001B[49m\u001B[38;5;28;43mself\u001B[39;49m\u001B[38;5;241;43m.\u001B[39;49m\u001B[43mgateway_client\u001B[49m\u001B[43m,\u001B[49m\u001B[43m \u001B[49m\u001B[38;5;28;43mself\u001B[39;49m\u001B[38;5;241;43m.\u001B[39;49m\u001B[43mtarget_id\u001B[49m\u001B[43m,\u001B[49m\u001B[43m \u001B[49m\u001B[38;5;28;43mself\u001B[39;49m\u001B[38;5;241;43m.\u001B[39;49m\u001B[43mname\u001B[49m\u001B[43m)\u001B[49m\n\u001B[1;32m   1324\u001B[0m \u001B[38;5;28;01mfor\u001B[39;00m temp_arg \u001B[38;5;129;01min\u001B[39;00m temp_args:\n\u001B[1;32m   1325\u001B[0m     temp_arg\u001B[38;5;241m.\u001B[39m_detach()\n\nFile \u001B[0;32m/databricks/spark/python/pyspark/errors/exceptions.py:234\u001B[0m, in \u001B[0;36mcapture_sql_exception.<locals>.deco\u001B[0;34m(*a, **kw)\u001B[0m\n\u001B[1;32m    230\u001B[0m converted \u001B[38;5;241m=\u001B[39m convert_exception(e\u001B[38;5;241m.\u001B[39mjava_exception)\n\u001B[1;32m    231\u001B[0m \u001B[38;5;28;01mif\u001B[39;00m \u001B[38;5;129;01mnot\u001B[39;00m \u001B[38;5;28misinstance\u001B[39m(converted, UnknownException):\n\u001B[1;32m    232\u001B[0m     \u001B[38;5;66;03m# Hide where the exception came from that shows a non-Pythonic\u001B[39;00m\n\u001B[1;32m    233\u001B[0m     \u001B[38;5;66;03m# JVM exception message.\u001B[39;00m\n\u001B[0;32m--> 234\u001B[0m     \u001B[38;5;28;01mraise\u001B[39;00m converted \u001B[38;5;28;01mfrom\u001B[39;00m \u001B[38;5;28mNone\u001B[39m\n\u001B[1;32m    235\u001B[0m \u001B[38;5;28;01melse\u001B[39;00m:\n\u001B[1;32m    236\u001B[0m     \u001B[38;5;28;01mraise\u001B[39;00m\n\n\u001B[0;31mAnalysisException\u001B[0m: Unable to infer schema for CSV. It must be specified manually.",
       "errorSummary": "<span class='ansi-red-fg'>AnalysisException</span>: Unable to infer schema for CSV. It must be specified manually.",
       "errorTraceType": "ansi",
       "metadata": {},
       "type": "ipynbError"
      }
     },
     "output_type": "display_data"
    }
   ],
   "source": [
    "fact_sales2=spark.read.csv('/FileStore/mnt/test_bucket/landing/brands/', header=True, inferSchema=True)"
   ]
  },
  {
   "cell_type": "code",
   "execution_count": 0,
   "metadata": {
    "application/vnd.databricks.v1+cell": {
     "cellMetadata": {
      "byteLimit": 2048000,
      "rowLimit": 10000
     },
     "inputWidgets": {},
     "nuid": "faa5a13b-b20a-45e0-81fd-553234967165",
     "showTitle": false,
     "title": ""
    }
   },
   "outputs": [
    {
     "output_type": "stream",
     "name": "stdout",
     "output_type": "stream",
     "text": [
      "Out[19]: 1"
     ]
    }
   ],
   "source": [
    "len(dbutils.fs.ls('/FileStore/mnt/test_bucket/landing/sales/'))"
   ]
  },
  {
   "cell_type": "code",
   "execution_count": 0,
   "metadata": {
    "application/vnd.databricks.v1+cell": {
     "cellMetadata": {
      "byteLimit": 2048000,
      "rowLimit": 10000
     },
     "inputWidgets": {},
     "nuid": "acfb6d1f-551e-4aff-a2e5-fae4f478043f",
     "showTitle": false,
     "title": ""
    }
   },
   "outputs": [
    {
     "output_type": "display_data",
     "data": {
      "text/html": [
       "<div class = \"ansiout\"><b>dbutils.fs</b> provides utilities for working with FileSystems. Most methods in\n",
       "this package can take either a DBFS path (e.g., \"/foo\" or \"dbfs:/foo\"), or\n",
       "another FileSystem URI.\n",
       "\n",
       "For more info about a method, use <b>dbutils.fs.help(\"methodName\")</b>.\n",
       "\n",
       "In notebooks, you can also use the %fs shorthand to access DBFS. The %fs shorthand maps\n",
       "straightforwardly onto dbutils calls. For example, \"%fs head --maxBytes=10000 /file/path\"\n",
       "translates into \"dbutils.fs.head(\"/file/path\", maxBytes = 10000)\".\n",
       "    <h3>mount</h3><b>mount(source: String, mountPoint: String, encryptionType: String = \"\", owner: String = null, extraConfigs: Map = Map.empty[String, String]): boolean</b> -> Mounts the given source directory into DBFS at the given mount point<br /><b>mounts: Seq</b> -> Displays information about what is mounted within DBFS<br /><b>refreshMounts: boolean</b> -> Forces all machines in this cluster to refresh their mount cache, ensuring they receive the most recent information<br /><b>unmount(mountPoint: String): boolean</b> -> Deletes a DBFS mount point<br /><b>updateMount(source: String, mountPoint: String, encryptionType: String = \"\", owner: String = null, extraConfigs: Map = Map.empty[String, String]): boolean</b> -> Similar to mount(), but updates an existing mount point (if present) instead of creating a new one<br /><br /><h3>fsutils</h3><b>cp(from: String, to: String, recurse: boolean = false): boolean</b> -> Copies a file or directory, possibly across FileSystems<br /><b>head(file: String, maxBytes: int = 65536): String</b> -> Returns up to the first 'maxBytes' bytes of the given file as a String encoded in UTF-8<br /><b>ls(dir: String): Seq</b> -> Lists the contents of a directory<br /><b>mkdirs(dir: String): boolean</b> -> Creates the given directory if it does not exist, also creating any necessary parent directories<br /><b>mv(from: String, to: String, recurse: boolean = false): boolean</b> -> Moves a file or directory, possibly across FileSystems<br /><b>put(file: String, contents: String, overwrite: boolean = false): boolean</b> -> Writes the given String out to a file, encoded in UTF-8<br /><b>rm(dir: String, recurse: boolean = false): boolean</b> -> Removes a file or directory<br /><br /></div>"
      ]
     },
     "metadata": {
      "application/vnd.databricks.v1+output": {
       "addedWidgets": {},
       "arguments": {},
       "data": "<div class = \"ansiout\"><b>dbutils.fs</b> provides utilities for working with FileSystems. Most methods in\nthis package can take either a DBFS path (e.g., \"/foo\" or \"dbfs:/foo\"), or\nanother FileSystem URI.\n\nFor more info about a method, use <b>dbutils.fs.help(\"methodName\")</b>.\n\nIn notebooks, you can also use the %fs shorthand to access DBFS. The %fs shorthand maps\nstraightforwardly onto dbutils calls. For example, \"%fs head --maxBytes=10000 /file/path\"\ntranslates into \"dbutils.fs.head(\"/file/path\", maxBytes = 10000)\".\n    <h3>mount</h3><b>mount(source: String, mountPoint: String, encryptionType: String = \"\", owner: String = null, extraConfigs: Map = Map.empty[String, String]): boolean</b> -> Mounts the given source directory into DBFS at the given mount point<br /><b>mounts: Seq</b> -> Displays information about what is mounted within DBFS<br /><b>refreshMounts: boolean</b> -> Forces all machines in this cluster to refresh their mount cache, ensuring they receive the most recent information<br /><b>unmount(mountPoint: String): boolean</b> -> Deletes a DBFS mount point<br /><b>updateMount(source: String, mountPoint: String, encryptionType: String = \"\", owner: String = null, extraConfigs: Map = Map.empty[String, String]): boolean</b> -> Similar to mount(), but updates an existing mount point (if present) instead of creating a new one<br /><br /><h3>fsutils</h3><b>cp(from: String, to: String, recurse: boolean = false): boolean</b> -> Copies a file or directory, possibly across FileSystems<br /><b>head(file: String, maxBytes: int = 65536): String</b> -> Returns up to the first 'maxBytes' bytes of the given file as a String encoded in UTF-8<br /><b>ls(dir: String): Seq</b> -> Lists the contents of a directory<br /><b>mkdirs(dir: String): boolean</b> -> Creates the given directory if it does not exist, also creating any necessary parent directories<br /><b>mv(from: String, to: String, recurse: boolean = false): boolean</b> -> Moves a file or directory, possibly across FileSystems<br /><b>put(file: String, contents: String, overwrite: boolean = false): boolean</b> -> Writes the given String out to a file, encoded in UTF-8<br /><b>rm(dir: String, recurse: boolean = false): boolean</b> -> Removes a file or directory<br /><br /></div>",
       "datasetInfos": [],
       "metadata": {},
       "removedWidgets": [],
       "textData": null,
       "type": "htmlSandbox"
      }
     },
     "output_type": "display_data"
    }
   ],
   "source": [
    "dbutil.fs.help()"
   ]
  },
  {
   "cell_type": "code",
   "execution_count": 0,
   "metadata": {
    "application/vnd.databricks.v1+cell": {
     "cellMetadata": {},
     "inputWidgets": {},
     "nuid": "1a228d88-ae2b-4b08-8af5-7e44c62bb435",
     "showTitle": false,
     "title": ""
    }
   },
   "outputs": [],
   "source": []
  },
  {
   "cell_type": "code",
   "execution_count": 0,
   "metadata": {
    "application/vnd.databricks.v1+cell": {
     "cellMetadata": {},
     "inputWidgets": {},
     "nuid": "5a975868-8d4c-4d4e-b95a-b078666c7eb7",
     "showTitle": false,
     "title": ""
    }
   },
   "outputs": [],
   "source": []
  },
  {
   "cell_type": "markdown",
   "metadata": {
    "application/vnd.databricks.v1+cell": {
     "cellMetadata": {},
     "inputWidgets": {},
     "nuid": "2d9d7b0e-61c7-47ce-9f3c-f51550bc43aa",
     "showTitle": false,
     "title": ""
    }
   },
   "source": [
    "### Move file/s into archive folder"
   ]
  },
  {
   "cell_type": "code",
   "execution_count": 0,
   "metadata": {
    "application/vnd.databricks.v1+cell": {
     "cellMetadata": {
      "byteLimit": 2048000,
      "rowLimit": 10000
     },
     "inputWidgets": {},
     "nuid": "0acec7c2-e707-4310-a13f-1d1c668e012a",
     "showTitle": false,
     "title": " os"
    },
    "jupyter": {
     "outputs_hidden": true
    }
   },
   "outputs": [
    {
     "output_type": "display_data",
     "data": {
      "text/plain": [
       "\u001B[0;31m---------------------------------------------------------------------------\u001B[0m\n",
       "\u001B[0;31mNameError\u001B[0m                                 Traceback (most recent call last)\n",
       "File \u001B[0;32m<command-2025562790395254>:6\u001B[0m\n",
       "\u001B[1;32m      3\u001B[0m   file_list \u001B[38;5;241m=\u001B[39m [file\u001B[38;5;241m.\u001B[39mpath \u001B[38;5;28;01mfor\u001B[39;00m file \u001B[38;5;129;01min\u001B[39;00m dbutils\u001B[38;5;241m.\u001B[39mfs\u001B[38;5;241m.\u001B[39mls(file_path)]\n",
       "\u001B[1;32m      4\u001B[0m   \u001B[38;5;28;01mreturn\u001B[39;00m file_list\n",
       "\u001B[0;32m----> 6\u001B[0m files \u001B[38;5;241m=\u001B[39m db_list_files(\u001B[38;5;124mf\u001B[39m\u001B[38;5;124m'\u001B[39m\u001B[38;5;124mdbfs:\u001B[39m\u001B[38;5;132;01m{\u001B[39;00mlanding_path\u001B[38;5;132;01m}\u001B[39;00m\u001B[38;5;132;01m{\u001B[39;00mtable_name\u001B[38;5;132;01m}\u001B[39;00m\u001B[38;5;124m'\u001B[39m, \u001B[38;5;124m'\u001B[39m\u001B[38;5;124mfoobar\u001B[39m\u001B[38;5;124m'\u001B[39m)\n",
       "\u001B[1;32m      8\u001B[0m \u001B[38;5;28;01mfor\u001B[39;00m file \u001B[38;5;129;01min\u001B[39;00m files:\n",
       "\u001B[1;32m      9\u001B[0m   \u001B[38;5;66;03m#dbutils.fs.cp(file, os.path.join(f'dbfs:{archive_path}{table_name}', os.path.basename(file)))\u001B[39;00m\n",
       "\u001B[1;32m     10\u001B[0m   dbutils\u001B[38;5;241m.\u001B[39mfs\u001B[38;5;241m.\u001B[39mmv(file, os\u001B[38;5;241m.\u001B[39mpath\u001B[38;5;241m.\u001B[39mjoin(\u001B[38;5;124mf\u001B[39m\u001B[38;5;124m'\u001B[39m\u001B[38;5;124mdbfs:\u001B[39m\u001B[38;5;132;01m{\u001B[39;00marchive_path\u001B[38;5;132;01m}\u001B[39;00m\u001B[38;5;132;01m{\u001B[39;00mtable_name\u001B[38;5;132;01m}\u001B[39;00m\u001B[38;5;124m'\u001B[39m, os\u001B[38;5;241m.\u001B[39mpath\u001B[38;5;241m.\u001B[39mbasename(file)))\n",
       "\n",
       "\u001B[0;31mNameError\u001B[0m: name 'table_name' is not defined"
      ]
     },
     "metadata": {
      "application/vnd.databricks.v1+output": {
       "arguments": {},
       "data": "\u001B[0;31m---------------------------------------------------------------------------\u001B[0m\n\u001B[0;31mNameError\u001B[0m                                 Traceback (most recent call last)\nFile \u001B[0;32m<command-2025562790395254>:6\u001B[0m\n\u001B[1;32m      3\u001B[0m   file_list \u001B[38;5;241m=\u001B[39m [file\u001B[38;5;241m.\u001B[39mpath \u001B[38;5;28;01mfor\u001B[39;00m file \u001B[38;5;129;01min\u001B[39;00m dbutils\u001B[38;5;241m.\u001B[39mfs\u001B[38;5;241m.\u001B[39mls(file_path)]\n\u001B[1;32m      4\u001B[0m   \u001B[38;5;28;01mreturn\u001B[39;00m file_list\n\u001B[0;32m----> 6\u001B[0m files \u001B[38;5;241m=\u001B[39m db_list_files(\u001B[38;5;124mf\u001B[39m\u001B[38;5;124m'\u001B[39m\u001B[38;5;124mdbfs:\u001B[39m\u001B[38;5;132;01m{\u001B[39;00mlanding_path\u001B[38;5;132;01m}\u001B[39;00m\u001B[38;5;132;01m{\u001B[39;00mtable_name\u001B[38;5;132;01m}\u001B[39;00m\u001B[38;5;124m'\u001B[39m, \u001B[38;5;124m'\u001B[39m\u001B[38;5;124mfoobar\u001B[39m\u001B[38;5;124m'\u001B[39m)\n\u001B[1;32m      8\u001B[0m \u001B[38;5;28;01mfor\u001B[39;00m file \u001B[38;5;129;01min\u001B[39;00m files:\n\u001B[1;32m      9\u001B[0m   \u001B[38;5;66;03m#dbutils.fs.cp(file, os.path.join(f'dbfs:{archive_path}{table_name}', os.path.basename(file)))\u001B[39;00m\n\u001B[1;32m     10\u001B[0m   dbutils\u001B[38;5;241m.\u001B[39mfs\u001B[38;5;241m.\u001B[39mmv(file, os\u001B[38;5;241m.\u001B[39mpath\u001B[38;5;241m.\u001B[39mjoin(\u001B[38;5;124mf\u001B[39m\u001B[38;5;124m'\u001B[39m\u001B[38;5;124mdbfs:\u001B[39m\u001B[38;5;132;01m{\u001B[39;00marchive_path\u001B[38;5;132;01m}\u001B[39;00m\u001B[38;5;132;01m{\u001B[39;00mtable_name\u001B[38;5;132;01m}\u001B[39;00m\u001B[38;5;124m'\u001B[39m, os\u001B[38;5;241m.\u001B[39mpath\u001B[38;5;241m.\u001B[39mbasename(file)))\n\n\u001B[0;31mNameError\u001B[0m: name 'table_name' is not defined",
       "errorSummary": "<span class='ansi-red-fg'>NameError</span>: name 'table_name' is not defined",
       "errorTraceType": "ansi",
       "metadata": {},
       "type": "ipynbError"
      }
     },
     "output_type": "display_data"
    }
   ],
   "source": [
    "\n",
    "def db_list_files(file_path, file_prefix):\n",
    "  #file_list = [file.path for file in dbutils.fs.ls(file_path) if os.path.basename(file.path).startswith(file_prefix)]\n",
    "  file_list = [file.path for file in dbutils.fs.ls(file_path)]\n",
    "  return file_list\n",
    "\n",
    "files = db_list_files(f'dbfs:{landing_path}{table_name}', 'foobar')\n",
    "\n",
    "for file in files:\n",
    "  #dbutils.fs.cp(file, os.path.join(f'dbfs:{archive_path}{table_name}', os.path.basename(file)))\n",
    "  dbutils.fs.mv(file, os.path.join(f'dbfs:{archive_path}{table_name}', os.path.basename(file)))\n"
   ]
  },
  {
   "cell_type": "code",
   "execution_count": 0,
   "metadata": {
    "application/vnd.databricks.v1+cell": {
     "cellMetadata": {
      "byteLimit": 2048000,
      "rowLimit": 10000
     },
     "inputWidgets": {},
     "nuid": "88f420a3-ceb0-4592-8c03-4ad2934d40f0",
     "showTitle": false,
     "title": ""
    }
   },
   "outputs": [],
   "source": [
    "import os"
   ]
  },
  {
   "cell_type": "code",
   "execution_count": 0,
   "metadata": {
    "application/vnd.databricks.v1+cell": {
     "cellMetadata": {
      "byteLimit": 2048000,
      "rowLimit": 10000
     },
     "inputWidgets": {},
     "nuid": "51a6b85d-33ff-4a09-9074-63e8e66ee489",
     "showTitle": false,
     "title": ""
    }
   },
   "outputs": [],
   "source": [
    "for f in [file.path for file in dbutils.fs.ls(f'dbfs:{landing_path}products')]:\n",
    "    dbutils.fs.mv(f, os.path.join(f'dbfs:{archive_path}products', os.path.basename(f)))"
   ]
  },
  {
   "cell_type": "code",
   "execution_count": 0,
   "metadata": {
    "application/vnd.databricks.v1+cell": {
     "cellMetadata": {
      "byteLimit": 2048000,
      "rowLimit": 10000
     },
     "inputWidgets": {},
     "nuid": "180cc061-3118-4742-8491-108648132625",
     "showTitle": false,
     "title": ""
    }
   },
   "outputs": [],
   "source": [
    "for f in dbutils.fs.ls(f'dbfs:{landing_path}products'):\n",
    "    dbutils.fs.mv(f.path, os.path.join(f'dbfs:{archive_path}products', os.path.basename(f.path)))"
   ]
  },
  {
   "cell_type": "code",
   "execution_count": 0,
   "metadata": {
    "application/vnd.databricks.v1+cell": {
     "cellMetadata": {},
     "inputWidgets": {},
     "nuid": "92ebab18-f89a-4d0e-9269-29fcb98dd5d9",
     "showTitle": false,
     "title": ""
    }
   },
   "outputs": [],
   "source": []
  }
 ],
 "metadata": {
  "application/vnd.databricks.v1+notebook": {
   "dashboards": [],
   "language": "python",
   "notebookMetadata": {
    "mostRecentlyExecutedCommandWithImplicitDF": {
     "commandId": 1298894578063979,
     "dataframes": [
      "_sqldf"
     ]
    },
    "pythonIndentUnit": 4
   },
   "notebookName": "002 full ETL",
   "widgets": {}
  }
 },
 "nbformat": 4,
 "nbformat_minor": 0
}
